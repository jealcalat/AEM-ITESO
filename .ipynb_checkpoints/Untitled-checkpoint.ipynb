{
 "cells": [
  {
   "cell_type": "code",
   "execution_count": 122,
   "id": "7c63643c-4060-43f4-8c68-7200b6a97b47",
   "metadata": {},
   "outputs": [],
   "source": [
    "import numpy as np\n",
    "import matplotlib.pyplot as plt"
   ]
  },
  {
   "cell_type": "code",
   "execution_count": 123,
   "id": "16c012b2-f1fb-42f8-bd27-d3711f777302",
   "metadata": {},
   "outputs": [],
   "source": [
    "n = 100000\n",
    "espacio = [1, 2]"
   ]
  },
  {
   "cell_type": "code",
   "execution_count": 124,
   "id": "bac18967-d94a-48eb-9235-d935aca6c57f",
   "metadata": {},
   "outputs": [],
   "source": [
    "\n",
    "lanzamientos = np.random.choice(espacio, size=n)"
   ]
  },
  {
   "cell_type": "code",
   "execution_count": 125,
   "id": "0d190f3d-f478-4c10-9c4b-c337d198cf1e",
   "metadata": {},
   "outputs": [],
   "source": [
    "freq_rel = np.cumsum(lanzamientos == 1) / np.arange(1, n + 1, 1)"
   ]
  },
  {
   "cell_type": "code",
   "execution_count": 126,
   "id": "cba3f921-4abd-48ef-8faa-dfad4b3705a5",
   "metadata": {},
   "outputs": [
    {
     "data": {
      "text/plain": [
       "(0.0, 1.0)"
      ]
     },
     "execution_count": 126,
     "metadata": {},
     "output_type": "execute_result"
    },
    {
     "data": {
      "image/png": "[encoded data removed]",
      "text/plain": [
       "<Figure size 640x480 with 1 Axes>"
      ]
     },
     "metadata": {},
     "output_type": "display_data"
    }
   ],
   "source": [
    "plt.plot(freq_rel)\n",
    "plt.axhline(1/2, color='r', linestyle=':')\n",
    "plt.xlabel('Lanzamientos n')\n",
    "plt.ylabel('Frecuencia relativa')\n",
    "plt.ylim(0,1)"
   ]
  },
  {
   "cell_type": "code",
   "execution_count": 127,
   "id": "b90f339e-ed4a-4b38-b20c-e07747d39e2f",
   "metadata": {},
   "outputs": [
    {
     "data": {
      "text/plain": [
       "np.float64(0.49955)"
      ]
     },
     "execution_count": 127,
     "metadata": {},
     "output_type": "execute_result"
    }
   ],
   "source": [
    "freq_rel[-1]"
   ]
  },
  {
   "cell_type": "code",
   "execution_count": 128,
   "id": "63824da8-ed30-4044-a1f6-39bbe47c3bda",
   "metadata": {},
   "outputs": [
    {
     "data": {
      "text/plain": [
       "0.16666666666666666"
      ]
     },
     "execution_count": 128,
     "metadata": {},
     "output_type": "execute_result"
    }
   ],
   "source": [
    "1/6"
   ]
  },
  {
   "cell_type": "code",
   "execution_count": 129,
   "id": "fa91847d-8c76-4ab3-acbb-c35aee60cc22",
   "metadata": {},
   "outputs": [],
   "source": [
    "import pandas as pd\n",
    "# Crear un diccionario con los datos\n",
    "data = {\n",
    "    0: [0, 446, 1251, 462],\n",
    "    1: [275, 2570, 2523, 323],\n",
    "    2: [416, 1338, 396, 0]\n",
    "}\n",
    "\n",
    "# Crear el DataFrame a partir del diccionario, especificando los índices y columnas\n",
    "df = pd.DataFrame(data, index=[0, 1, 2, 3])"
   ]
  },
  {
   "cell_type": "code",
   "execution_count": 130,
   "id": "36cb28bb-9ba4-47b9-9ec1-89839511cbc8",
   "metadata": {},
   "outputs": [
    {
     "data": {
      "text/html": [
       "<div>\n",
       "<style scoped>\n",
       "    .dataframe tbody tr th:only-of-type {\n",
       "        vertical-align: middle;\n",
       "    }\n",
       "\n",
       "    .dataframe tbody tr th {\n",
       "        vertical-align: top;\n",
       "    }\n",
       "\n",
       "    .dataframe thead th {\n",
       "        text-align: right;\n",
       "    }\n",
       "</style>\n",
       "<table border=\"1\" class=\"dataframe\">\n",
       "  <thead>\n",
       "    <tr style=\"text-align: right;\">\n",
       "      <th></th>\n",
       "      <th>0</th>\n",
       "      <th>1</th>\n",
       "      <th>2</th>\n",
       "    </tr>\n",
       "    <tr>\n",
       "      <th>Y/X</th>\n",
       "      <th></th>\n",
       "      <th></th>\n",
       "      <th></th>\n",
       "    </tr>\n",
       "  </thead>\n",
       "  <tbody>\n",
       "    <tr>\n",
       "      <th>0</th>\n",
       "      <td>0</td>\n",
       "      <td>275</td>\n",
       "      <td>416</td>\n",
       "    </tr>\n",
       "    <tr>\n",
       "      <th>1</th>\n",
       "      <td>446</td>\n",
       "      <td>2570</td>\n",
       "      <td>1338</td>\n",
       "    </tr>\n",
       "    <tr>\n",
       "      <th>2</th>\n",
       "      <td>1251</td>\n",
       "      <td>2523</td>\n",
       "      <td>396</td>\n",
       "    </tr>\n",
       "    <tr>\n",
       "      <th>3</th>\n",
       "      <td>462</td>\n",
       "      <td>323</td>\n",
       "      <td>0</td>\n",
       "    </tr>\n",
       "  </tbody>\n",
       "</table>\n",
       "</div>"
      ],
      "text/plain": [
       "        0     1     2\n",
       "Y/X                  \n",
       "0       0   275   416\n",
       "1     446  2570  1338\n",
       "2    1251  2523   396\n",
       "3     462   323     0"
      ]
     },
     "execution_count": 130,
     "metadata": {},
     "output_type": "execute_result"
    }
   ],
   "source": [
    "df.index.name = 'Y/X'\n",
    "df"
   ]
  },
  {
   "cell_type": "code",
   "execution_count": 131,
   "id": "9d86d388-3c70-4f29-86f8-34105c568ab8",
   "metadata": {},
   "outputs": [
    {
     "data": {
      "text/html": [
       "<div>\n",
       "<style scoped>\n",
       "    .dataframe tbody tr th:only-of-type {\n",
       "        vertical-align: middle;\n",
       "    }\n",
       "\n",
       "    .dataframe tbody tr th {\n",
       "        vertical-align: top;\n",
       "    }\n",
       "\n",
       "    .dataframe thead th {\n",
       "        text-align: right;\n",
       "    }\n",
       "</style>\n",
       "<table border=\"1\" class=\"dataframe\">\n",
       "  <thead>\n",
       "    <tr style=\"text-align: right;\">\n",
       "      <th></th>\n",
       "      <th>0</th>\n",
       "      <th>1</th>\n",
       "      <th>2</th>\n",
       "      <th>marginal_y</th>\n",
       "    </tr>\n",
       "    <tr>\n",
       "      <th>Y/X</th>\n",
       "      <th></th>\n",
       "      <th></th>\n",
       "      <th></th>\n",
       "      <th></th>\n",
       "    </tr>\n",
       "  </thead>\n",
       "  <tbody>\n",
       "    <tr>\n",
       "      <th>0</th>\n",
       "      <td>0</td>\n",
       "      <td>275</td>\n",
       "      <td>416</td>\n",
       "      <td>691</td>\n",
       "    </tr>\n",
       "    <tr>\n",
       "      <th>1</th>\n",
       "      <td>446</td>\n",
       "      <td>2570</td>\n",
       "      <td>1338</td>\n",
       "      <td>4354</td>\n",
       "    </tr>\n",
       "    <tr>\n",
       "      <th>2</th>\n",
       "      <td>1251</td>\n",
       "      <td>2523</td>\n",
       "      <td>396</td>\n",
       "      <td>4170</td>\n",
       "    </tr>\n",
       "    <tr>\n",
       "      <th>3</th>\n",
       "      <td>462</td>\n",
       "      <td>323</td>\n",
       "      <td>0</td>\n",
       "      <td>785</td>\n",
       "    </tr>\n",
       "  </tbody>\n",
       "</table>\n",
       "</div>"
      ],
      "text/plain": [
       "        0     1     2  marginal_y\n",
       "Y/X                              \n",
       "0       0   275   416         691\n",
       "1     446  2570  1338        4354\n",
       "2    1251  2523   396        4170\n",
       "3     462   323     0         785"
      ]
     },
     "execution_count": 131,
     "metadata": {},
     "output_type": "execute_result"
    }
   ],
   "source": [
    "df['marginal_y'] = df.sum(axis=1)\n",
    "df"
   ]
  },
  {
   "cell_type": "code",
   "execution_count": 132,
   "id": "d22f0cd8-dea1-4e66-a013-4172a85ad0a1",
   "metadata": {},
   "outputs": [
    {
     "data": {
      "text/html": [
       "<div>\n",
       "<style scoped>\n",
       "    .dataframe tbody tr th:only-of-type {\n",
       "        vertical-align: middle;\n",
       "    }\n",
       "\n",
       "    .dataframe tbody tr th {\n",
       "        vertical-align: top;\n",
       "    }\n",
       "\n",
       "    .dataframe thead th {\n",
       "        text-align: right;\n",
       "    }\n",
       "</style>\n",
       "<table border=\"1\" class=\"dataframe\">\n",
       "  <thead>\n",
       "    <tr style=\"text-align: right;\">\n",
       "      <th></th>\n",
       "      <th>0</th>\n",
       "      <th>1</th>\n",
       "      <th>2</th>\n",
       "      <th>marginal_y</th>\n",
       "    </tr>\n",
       "    <tr>\n",
       "      <th>Y/X</th>\n",
       "      <th></th>\n",
       "      <th></th>\n",
       "      <th></th>\n",
       "      <th></th>\n",
       "    </tr>\n",
       "  </thead>\n",
       "  <tbody>\n",
       "    <tr>\n",
       "      <th>0</th>\n",
       "      <td>0</td>\n",
       "      <td>275</td>\n",
       "      <td>416</td>\n",
       "      <td>691</td>\n",
       "    </tr>\n",
       "    <tr>\n",
       "      <th>1</th>\n",
       "      <td>446</td>\n",
       "      <td>2570</td>\n",
       "      <td>1338</td>\n",
       "      <td>4354</td>\n",
       "    </tr>\n",
       "    <tr>\n",
       "      <th>2</th>\n",
       "      <td>1251</td>\n",
       "      <td>2523</td>\n",
       "      <td>396</td>\n",
       "      <td>4170</td>\n",
       "    </tr>\n",
       "    <tr>\n",
       "      <th>3</th>\n",
       "      <td>462</td>\n",
       "      <td>323</td>\n",
       "      <td>0</td>\n",
       "      <td>785</td>\n",
       "    </tr>\n",
       "    <tr>\n",
       "      <th>4</th>\n",
       "      <td>2159</td>\n",
       "      <td>5691</td>\n",
       "      <td>2150</td>\n",
       "      <td>10000</td>\n",
       "    </tr>\n",
       "  </tbody>\n",
       "</table>\n",
       "</div>"
      ],
      "text/plain": [
       "        0     1     2  marginal_y\n",
       "Y/X                              \n",
       "0       0   275   416         691\n",
       "1     446  2570  1338        4354\n",
       "2    1251  2523   396        4170\n",
       "3     462   323     0         785\n",
       "4    2159  5691  2150       10000"
      ]
     },
     "execution_count": 132,
     "metadata": {},
     "output_type": "execute_result"
    }
   ],
   "source": [
    "df.loc[4] = df.sum(axis=0)\n",
    "df"
   ]
  },
  {
   "cell_type": "code",
   "execution_count": 134,
   "id": "dd0fa519-5f7d-41fb-97b5-1416f4270f12",
   "metadata": {},
   "outputs": [],
   "source": [
    "prob_marg = df['marginal_y'] / 10000"
   ]
  },
  {
   "cell_type": "code",
   "execution_count": 136,
   "id": "fa452852-0e66-4527-b667-054c21e28ac3",
   "metadata": {},
   "outputs": [],
   "source": [
    "df['prob_marg'] = prob_marg"
   ]
  },
  {
   "cell_type": "code",
   "execution_count": 138,
   "id": "101d84fa-f671-47e7-a76f-97fe71a6db44",
   "metadata": {},
   "outputs": [
    {
     "data": {
      "text/html": [
       "<div>\n",
       "<style scoped>\n",
       "    .dataframe tbody tr th:only-of-type {\n",
       "        vertical-align: middle;\n",
       "    }\n",
       "\n",
       "    .dataframe tbody tr th {\n",
       "        vertical-align: top;\n",
       "    }\n",
       "\n",
       "    .dataframe thead th {\n",
       "        text-align: right;\n",
       "    }\n",
       "</style>\n",
       "<table border=\"1\" class=\"dataframe\">\n",
       "  <thead>\n",
       "    <tr style=\"text-align: right;\">\n",
       "      <th></th>\n",
       "      <th>0</th>\n",
       "      <th>1</th>\n",
       "      <th>2</th>\n",
       "      <th>marginal_y</th>\n",
       "      <th>prob_marg</th>\n",
       "    </tr>\n",
       "    <tr>\n",
       "      <th>Y/X</th>\n",
       "      <th></th>\n",
       "      <th></th>\n",
       "      <th></th>\n",
       "      <th></th>\n",
       "      <th></th>\n",
       "    </tr>\n",
       "  </thead>\n",
       "  <tbody>\n",
       "    <tr>\n",
       "      <th>0</th>\n",
       "      <td>0.0000</td>\n",
       "      <td>275.0000</td>\n",
       "      <td>416.000</td>\n",
       "      <td>691.0</td>\n",
       "      <td>0.0691</td>\n",
       "    </tr>\n",
       "    <tr>\n",
       "      <th>1</th>\n",
       "      <td>446.0000</td>\n",
       "      <td>2570.0000</td>\n",
       "      <td>1338.000</td>\n",
       "      <td>4354.0</td>\n",
       "      <td>0.4354</td>\n",
       "    </tr>\n",
       "    <tr>\n",
       "      <th>2</th>\n",
       "      <td>1251.0000</td>\n",
       "      <td>2523.0000</td>\n",
       "      <td>396.000</td>\n",
       "      <td>4170.0</td>\n",
       "      <td>0.4170</td>\n",
       "    </tr>\n",
       "    <tr>\n",
       "      <th>3</th>\n",
       "      <td>462.0000</td>\n",
       "      <td>323.0000</td>\n",
       "      <td>0.000</td>\n",
       "      <td>785.0</td>\n",
       "      <td>0.0785</td>\n",
       "    </tr>\n",
       "    <tr>\n",
       "      <th>4</th>\n",
       "      <td>2159.0000</td>\n",
       "      <td>5691.0000</td>\n",
       "      <td>2150.000</td>\n",
       "      <td>10000.0</td>\n",
       "      <td>1.0000</td>\n",
       "    </tr>\n",
       "    <tr>\n",
       "      <th>5</th>\n",
       "      <td>0.2159</td>\n",
       "      <td>0.5691</td>\n",
       "      <td>0.215</td>\n",
       "      <td>1.0</td>\n",
       "      <td>0.0001</td>\n",
       "    </tr>\n",
       "  </tbody>\n",
       "</table>\n",
       "</div>"
      ],
      "text/plain": [
       "             0          1         2  marginal_y  prob_marg\n",
       "Y/X                                                       \n",
       "0       0.0000   275.0000   416.000       691.0     0.0691\n",
       "1     446.0000  2570.0000  1338.000      4354.0     0.4354\n",
       "2    1251.0000  2523.0000   396.000      4170.0     0.4170\n",
       "3     462.0000   323.0000     0.000       785.0     0.0785\n",
       "4    2159.0000  5691.0000  2150.000     10000.0     1.0000\n",
       "5       0.2159     0.5691     0.215         1.0     0.0001"
      ]
     },
     "execution_count": 138,
     "metadata": {},
     "output_type": "execute_result"
    }
   ],
   "source": [
    "df.loc[5] = df.loc[4] / 10000\n",
    "df"
   ]
  },
  {
   "cell_type": "markdown",
   "id": "6d1a95d3-e08d-4faf-8715-5a146db49dc5",
   "metadata": {},
   "source": [
    "¿Cuál es la probabilidad $p(y_0, x_1)$?\n",
    "\n",
    "$$\n",
    "p(x_j, y_i) = \\frac{n_{ji}}{N}\n",
    "$$"
   ]
  },
  {
   "cell_type": "code",
   "execution_count": 144,
   "id": "0f302c5a-246d-4566-95a4-b4f10cef97b9",
   "metadata": {},
   "outputs": [
    {
     "name": "stdout",
     "output_type": "stream",
     "text": [
      "10000\n",
      "      0     1     2\n",
      "0     0   275   416\n",
      "1   446  2570  1338\n",
      "2  1251  2523   396\n",
      "3   462   323     0\n"
     ]
    }
   ],
   "source": [
    "# Crear un diccionario con los datos\n",
    "data = {\n",
    "    0: [0, 446, 1251, 462],\n",
    "    1: [275, 2570, 2523, 323],\n",
    "    2: [416, 1338, 396, 0]\n",
    "}\n",
    "\n",
    "# Crear el DataFrame a partir del diccionario, especificando los índices y columnas\n",
    "df2 = pd.DataFrame(data, index=[0, 1, 2, 3])\n",
    "print(df2.values.sum())\n",
    "print(df2)"
   ]
  },
  {
   "cell_type": "code",
   "execution_count": 145,
   "id": "f9b85515-0652-4ef6-86f9-4a9e4ff8cadf",
   "metadata": {},
   "outputs": [
    {
     "data": {
      "text/html": [
       "<div>\n",
       "<style scoped>\n",
       "    .dataframe tbody tr th:only-of-type {\n",
       "        vertical-align: middle;\n",
       "    }\n",
       "\n",
       "    .dataframe tbody tr th {\n",
       "        vertical-align: top;\n",
       "    }\n",
       "\n",
       "    .dataframe thead th {\n",
       "        text-align: right;\n",
       "    }\n",
       "</style>\n",
       "<table border=\"1\" class=\"dataframe\">\n",
       "  <thead>\n",
       "    <tr style=\"text-align: right;\">\n",
       "      <th></th>\n",
       "      <th>0</th>\n",
       "      <th>1</th>\n",
       "      <th>2</th>\n",
       "    </tr>\n",
       "  </thead>\n",
       "  <tbody>\n",
       "    <tr>\n",
       "      <th>0</th>\n",
       "      <td>0.0000</td>\n",
       "      <td>0.0275</td>\n",
       "      <td>0.0416</td>\n",
       "    </tr>\n",
       "    <tr>\n",
       "      <th>1</th>\n",
       "      <td>0.0446</td>\n",
       "      <td>0.2570</td>\n",
       "      <td>0.1338</td>\n",
       "    </tr>\n",
       "    <tr>\n",
       "      <th>2</th>\n",
       "      <td>0.1251</td>\n",
       "      <td>0.2523</td>\n",
       "      <td>0.0396</td>\n",
       "    </tr>\n",
       "    <tr>\n",
       "      <th>3</th>\n",
       "      <td>0.0462</td>\n",
       "      <td>0.0323</td>\n",
       "      <td>0.0000</td>\n",
       "    </tr>\n",
       "  </tbody>\n",
       "</table>\n",
       "</div>"
      ],
      "text/plain": [
       "        0       1       2\n",
       "0  0.0000  0.0275  0.0416\n",
       "1  0.0446  0.2570  0.1338\n",
       "2  0.1251  0.2523  0.0396\n",
       "3  0.0462  0.0323  0.0000"
      ]
     },
     "execution_count": 145,
     "metadata": {},
     "output_type": "execute_result"
    }
   ],
   "source": [
    "df2 / df2.values.sum()"
   ]
  },
  {
   "cell_type": "code",
   "execution_count": 146,
   "id": "7d129a58-a85d-47b4-a8c6-5d03db209bbf",
   "metadata": {},
   "outputs": [
    {
     "data": {
      "text/html": [
       "<div>\n",
       "<style scoped>\n",
       "    .dataframe tbody tr th:only-of-type {\n",
       "        vertical-align: middle;\n",
       "    }\n",
       "\n",
       "    .dataframe tbody tr th {\n",
       "        vertical-align: top;\n",
       "    }\n",
       "\n",
       "    .dataframe thead th {\n",
       "        text-align: right;\n",
       "    }\n",
       "</style>\n",
       "<table border=\"1\" class=\"dataframe\">\n",
       "  <thead>\n",
       "    <tr style=\"text-align: right;\">\n",
       "      <th></th>\n",
       "      <th>0</th>\n",
       "      <th>1</th>\n",
       "      <th>2</th>\n",
       "      <th>marginal_y</th>\n",
       "      <th>prob_marg</th>\n",
       "    </tr>\n",
       "    <tr>\n",
       "      <th>Y/X</th>\n",
       "      <th></th>\n",
       "      <th></th>\n",
       "      <th></th>\n",
       "      <th></th>\n",
       "      <th></th>\n",
       "    </tr>\n",
       "  </thead>\n",
       "  <tbody>\n",
       "    <tr>\n",
       "      <th>0</th>\n",
       "      <td>0.0000</td>\n",
       "      <td>275.0000</td>\n",
       "      <td>416.000</td>\n",
       "      <td>691.0</td>\n",
       "      <td>0.0691</td>\n",
       "    </tr>\n",
       "    <tr>\n",
       "      <th>1</th>\n",
       "      <td>446.0000</td>\n",
       "      <td>2570.0000</td>\n",
       "      <td>1338.000</td>\n",
       "      <td>4354.0</td>\n",
       "      <td>0.4354</td>\n",
       "    </tr>\n",
       "    <tr>\n",
       "      <th>2</th>\n",
       "      <td>1251.0000</td>\n",
       "      <td>2523.0000</td>\n",
       "      <td>396.000</td>\n",
       "      <td>4170.0</td>\n",
       "      <td>0.4170</td>\n",
       "    </tr>\n",
       "    <tr>\n",
       "      <th>3</th>\n",
       "      <td>462.0000</td>\n",
       "      <td>323.0000</td>\n",
       "      <td>0.000</td>\n",
       "      <td>785.0</td>\n",
       "      <td>0.0785</td>\n",
       "    </tr>\n",
       "    <tr>\n",
       "      <th>4</th>\n",
       "      <td>2159.0000</td>\n",
       "      <td>5691.0000</td>\n",
       "      <td>2150.000</td>\n",
       "      <td>10000.0</td>\n",
       "      <td>1.0000</td>\n",
       "    </tr>\n",
       "    <tr>\n",
       "      <th>5</th>\n",
       "      <td>0.2159</td>\n",
       "      <td>0.5691</td>\n",
       "      <td>0.215</td>\n",
       "      <td>1.0</td>\n",
       "      <td>0.0001</td>\n",
       "    </tr>\n",
       "  </tbody>\n",
       "</table>\n",
       "</div>"
      ],
      "text/plain": [
       "             0          1         2  marginal_y  prob_marg\n",
       "Y/X                                                       \n",
       "0       0.0000   275.0000   416.000       691.0     0.0691\n",
       "1     446.0000  2570.0000  1338.000      4354.0     0.4354\n",
       "2    1251.0000  2523.0000   396.000      4170.0     0.4170\n",
       "3     462.0000   323.0000     0.000       785.0     0.0785\n",
       "4    2159.0000  5691.0000  2150.000     10000.0     1.0000\n",
       "5       0.2159     0.5691     0.215         1.0     0.0001"
      ]
     },
     "execution_count": 146,
     "metadata": {},
     "output_type": "execute_result"
    }
   ],
   "source": [
    "df"
   ]
  },
  {
   "cell_type": "markdown",
   "id": "1614c6ee-0183-44cf-98fe-121e694d8e58",
   "metadata": {},
   "source": [
    "¿Cuál es la probabilidad de $p(x_1 | y_0)$"
   ]
  },
  {
   "cell_type": "code",
   "execution_count": 147,
   "id": "4c10677b-d84d-43a8-8469-a0c286e3b9d5",
   "metadata": {},
   "outputs": [
    {
     "data": {
      "text/plain": [
       "0.3979739507959479"
      ]
     },
     "execution_count": 147,
     "metadata": {},
     "output_type": "execute_result"
    }
   ],
   "source": [
    "275/691"
   ]
  },
  {
   "cell_type": "code",
   "execution_count": 2,
   "id": "0b81f827-104e-4aa8-9cfe-7f5702094b41",
   "metadata": {},
   "outputs": [
    {
     "data": {
      "text/plain": [
       "0.205078125"
      ]
     },
     "execution_count": 2,
     "metadata": {},
     "output_type": "execute_result"
    }
   ],
   "source": [
    "210 * (0.5 ** 4) * (0.5 ** 6)"
   ]
  },
  {
   "cell_type": "code",
   "execution_count": null,
   "id": "07751e5c-1548-4f16-939b-d03ac74857cb",
   "metadata": {},
   "outputs": [],
   "source": []
  },
  {
   "cell_type": "code",
   "execution_count": null,
   "id": "e79cfebe-d930-4cd6-aba2-1a9da03e11bd",
   "metadata": {},
   "outputs": [],
   "source": []
  },
  {
   "cell_type": "code",
   "execution_count": null,
   "id": "d3f9a14e-99b3-4600-bfdc-9890d27149b9",
   "metadata": {},
   "outputs": [],
   "source": []
  },
  {
   "cell_type": "markdown",
   "id": "c62b3aa5-879b-43fd-9de3-34e3fd0dec39",
   "metadata": {},
   "source": [
    "Definicion de pmf binomial\n",
    "\n",
    "```latex\n",
    "p(k;n,\\theta)=\\binom{n}{k} \\theta^k (1-\\theta)^{n-k}\n",
    "```\n",
    "\n",
    "$$\n",
    "p(k;n,\\theta)=\\binom{n}{k} \\theta^k (1-\\theta)^{n-k}\n",
    "$$"
   ]
  },
  {
   "cell_type": "code",
   "execution_count": 4,
   "id": "aba4137a-4e40-4a4f-b046-c2efe61df6e4",
   "metadata": {},
   "outputs": [
    {
     "name": "stdout",
     "output_type": "stream",
     "text": [
      "Probabilidad de k = 4, con n = 10 y theta = 0.5 es de 0.205078125\n"
     ]
    }
   ],
   "source": [
    "from scipy.special import comb\n",
    "import numpy as np\n",
    "def binomial(k, n, theta):\n",
    "    pk = comb(n, k) * theta ** k * (1 - theta) ** (n - k)\n",
    "    return pk\n",
    "\n",
    "k = 4\n",
    "n = 10\n",
    "theta = 0.5\n",
    "\n",
    "p_k = binomial(k, n, theta)\n",
    "print(f'Probabilidad de k = {k}, con n = {n} y theta = {theta} es de {p_k}')\n",
    "    "
   ]
  },
  {
   "cell_type": "code",
   "execution_count": 7,
   "id": "a57c43f2-8987-45d9-b257-3b7760a31c12",
   "metadata": {},
   "outputs": [
    {
     "name": "stdout",
     "output_type": "stream",
     "text": [
      "[0.05454985 0.1090997  0.17455952 0.2181994  0.20536414 0.13690943]\n"
     ]
    }
   ],
   "source": [
    "n = 20\n",
    "theta = 0.8\n",
    "k = np.array([13, 14, 15, 16, 17, 18])\n",
    "p_k = binomial(k, n, theta)\n",
    "print(p_k)"
   ]
  },
  {
   "cell_type": "code",
   "execution_count": 11,
   "id": "ac9304ea-a284-48e4-acab-c3540c359b9c",
   "metadata": {},
   "outputs": [
    {
     "data": {
      "text/plain": [
       "array([0.00097656, 0.01074219, 0.0546875 , 0.171875  , 0.37695312,\n",
       "       0.62304688, 0.828125  ])"
      ]
     },
     "execution_count": 11,
     "metadata": {},
     "output_type": "execute_result"
    }
   ],
   "source": [
    "k_vec = np.arange(0, 6 + 1, 1)\n",
    "n = 10\n",
    "theta = 0.5\n",
    "p_vec = np.cumsum(binomial(k_vec, n, theta))\n",
    "p_vec"
   ]
  },
  {
   "cell_type": "code",
   "execution_count": 16,
   "id": "fc945518-b06b-437c-9856-23b7f3717473",
   "metadata": {},
   "outputs": [
    {
     "data": {
      "text/plain": [
       "<matplotlib.collections.PathCollection at 0x10e8b3ec0>"
      ]
     },
     "execution_count": 16,
     "metadata": {},
     "output_type": "execute_result"
    },
    {
     "data": {
      "image/png": "[encoded data removed]",
      "text/plain": [
       "<Figure size 640x480 with 1 Axes>"
      ]
     },
     "metadata": {},
     "output_type": "display_data"
    }
   ],
   "source": [
    "import matplotlib.pyplot as plt\n",
    "\n",
    "plt.scatter(k_vec, p_vec, color = 'red')"
   ]
  },
  {
   "cell_type": "code",
   "execution_count": 18,
   "id": "b833f239-c267-4ae5-8c80-375583df9d3f",
   "metadata": {},
   "outputs": [
    {
     "data": {
      "text/plain": [
       "np.float64(0.06680094289054264)"
      ]
     },
     "execution_count": 18,
     "metadata": {},
     "output_type": "execute_result"
    }
   ],
   "source": [
    "import math\n",
    "np.exp(1) ** (-2.5) * (2.5 ** 5) / math.factorial(5)"
   ]
  },
  {
   "cell_type": "code",
   "execution_count": 19,
   "id": "702ce568-77c8-4a59-978f-219d2486ee06",
   "metadata": {},
   "outputs": [
    {
     "data": {
      "text/plain": [
       "0.05581632944673069"
      ]
     },
     "execution_count": 19,
     "metadata": {},
     "output_type": "execute_result"
    }
   ],
   "source": [
    "(1/6) * (1 - 1/6) ** (7-1)"
   ]
  },
  {
   "cell_type": "code",
   "execution_count": 28,
   "id": "9a358d22-791c-4c75-b5b0-3ee463b06dd2",
   "metadata": {},
   "outputs": [
    {
     "data": {
      "text/plain": [
       "array([0.16666667, 0.13888889, 0.11574074, 0.09645062, 0.08037551])"
      ]
     },
     "execution_count": 28,
     "metadata": {},
     "output_type": "execute_result"
    }
   ],
   "source": [
    "def p_geom(k, theta):\n",
    "    return theta * (1 - theta) ** (k - 1)\n",
    "\n",
    "k_vec = np.arange(1, 5 + 1, 1)\n",
    "\n",
    "p_geom(k_vec, theta = 1/6)"
   ]
  },
  {
   "cell_type": "code",
   "execution_count": 30,
   "id": "182de044-da4d-48f6-a37d-7f00c50e04dd",
   "metadata": {},
   "outputs": [
    {
     "data": {
      "text/plain": [
       "array([0.16666667, 0.30555556, 0.4212963 , 0.51774691, 0.59812243])"
      ]
     },
     "execution_count": 30,
     "metadata": {},
     "output_type": "execute_result"
    }
   ],
   "source": [
    "p_acum = np.cumsum(p_geom(k_vec, theta = 1/6))\n",
    "p_acum"
   ]
  },
  {
   "cell_type": "code",
   "execution_count": 32,
   "id": "ecf0325e-26ba-49f4-a360-c5769e511aa0",
   "metadata": {},
   "outputs": [],
   "source": [
    "from scipy.stats import binom, poisson, geom\n"
   ]
  },
  {
   "cell_type": "code",
   "execution_count": 40,
   "id": "a4d46977-fd4a-44e3-9b16-abbba256a4dd",
   "metadata": {},
   "outputs": [
    {
     "data": {
      "text/plain": [
       "array([0.00097656, 0.01074219, 0.0546875 , 0.171875  , 0.37695313,\n",
       "       0.62304688, 0.828125  ])"
      ]
     },
     "execution_count": 40,
     "metadata": {},
     "output_type": "execute_result"
    }
   ],
   "source": [
    "np.cumsum(binom.pmf(k=[0, 1, 2, 3, 4, 5, 6], n=10, p=1/2))"
   ]
  },
  {
   "cell_type": "code",
   "execution_count": 38,
   "id": "690f9875-a7f4-4a59-93f7-37b71c7cd532",
   "metadata": {},
   "outputs": [
    {
     "data": {
      "text/plain": [
       "np.float64(0.828125)"
      ]
     },
     "execution_count": 38,
     "metadata": {},
     "output_type": "execute_result"
    }
   ],
   "source": [
    "binom.cdf(k=6, n=10, p=0.5)"
   ]
  },
  {
   "cell_type": "code",
   "execution_count": 15,
   "id": "28f0ecc2-8554-4f14-8233-93d81c7b13ba",
   "metadata": {},
   "outputs": [
    {
     "data": {
      "text/plain": [
       "0"
      ]
     },
     "execution_count": 15,
     "metadata": {},
     "output_type": "execute_result"
    }
   ],
   "source": [
    "from scipy.stats import binom\n",
    "binom.rvs(1, 0.5)"
   ]
  },
  {
   "cell_type": "code",
   "execution_count": null,
   "id": "3308d503-ca35-46f3-8910-cc35d995107b",
   "metadata": {},
   "outputs": [],
   "source": [
    "import numpy as np\n",
    "import matplotlib.pyplot as plt\n",
    "# cargar fn binomial\n",
    "from scipy.stats import binom\n",
    "\n",
    "theta = 0.01\n",
    "max_min = 1000\n",
    "trials = 10000\n",
    "\n",
    "# definir objeto para guardar minutos de espera en cada ensayo\n",
    "waiting_times = []\n",
    "\n",
    "# for loop\n",
    "\n",
    "for i in range(trials):\n",
    "    mins = 0\n",
    "    # while loop\n",
    "    while True:\n",
    "        mins += 1\n",
    "        result = binom.rvs(1, theta) # ensayo de Bernoulli\n",
    "        if result == 1:\n",
    "            waiting_times.append(mins)\n",
    "            break\n",
    "        if mins >= max_min:\n",
    "            break\n"
   ]
  },
  {
   "cell_type": "code",
   "execution_count": null,
   "id": "a33befd7-33ce-46c6-b03e-68643a4abd5d",
   "metadata": {},
   "outputs": [],
   "source": []
  },
  {
   "cell_type": "code",
   "execution_count": 35,
   "id": "8aaa5690-1038-4a89-8930-2cd32f86384f",
   "metadata": {},
   "outputs": [
    {
     "data": {
      "text/plain": [
       "np.int64(883)"
      ]
     },
     "execution_count": 35,
     "metadata": {},
     "output_type": "execute_result"
    }
   ],
   "source": [
    "np.max(waiting_times)"
   ]
  },
  {
   "cell_type": "code",
   "execution_count": 36,
   "id": "6ecc42e7-dd09-42fe-826d-68db07c41337",
   "metadata": {},
   "outputs": [
    {
     "data": {
      "text/plain": [
       "100.0"
      ]
     },
     "execution_count": 36,
     "metadata": {},
     "output_type": "execute_result"
    }
   ],
   "source": [
    "1/theta"
   ]
  },
  {
   "cell_type": "code",
   "execution_count": 37,
   "id": "b40c75c2-9fd7-4541-a09e-2c06bf5adc04",
   "metadata": {},
   "outputs": [
    {
     "data": {
      "text/plain": [
       "np.float64(99.04260426042605)"
      ]
     },
     "execution_count": 37,
     "metadata": {},
     "output_type": "execute_result"
    }
   ],
   "source": [
    "np.mean(waiting_times)"
   ]
  },
  {
   "cell_type": "code",
   "execution_count": 38,
   "id": "0a514bd0-a01e-4491-8269-8a5f550356ee",
   "metadata": {},
   "outputs": [
    {
     "data": {
      "image/png": "[encoded data removed]",
      "text/plain": [
       "<Figure size 640x480 with 1 Axes>"
      ]
     },
     "metadata": {},
     "output_type": "display_data"
    }
   ],
   "source": [
    "plt.hist(waiting_times, bins=90);"
   ]
  },
  {
   "cell_type": "markdown",
   "id": "dba21ae2-5bfb-486c-8e17-c91263685adc",
   "metadata": {},
   "source": [
    "1. Cuál es la probabilidad te obtener 7 éxitos si lanzo la moneda 20 veces.\n",
    "2. Cuál es la probabilidad de tener hasta 11 éxito o menos si lanzo la moneda 20 veces.\n",
    "3. Cuántos segundos en promedio debería esperar hasta que un dado me salga un 5, considerando que todos los lados del dado tienen la misma probabilidad."
   ]
  },
  {
   "cell_type": "code",
   "execution_count": 40,
   "id": "07d2d0f0-e4bb-4922-a056-63a3900e190f",
   "metadata": {},
   "outputs": [
    {
     "name": "stdout",
     "output_type": "stream",
     "text": [
      "p(k=7; n=20, theta=0.5) = 0.07392883300781239\n",
      "p(k=7; n=20, theta=0.5) = 0.7482776641845703\n"
     ]
    }
   ],
   "source": [
    "print(f'p(k=7; n=20, theta=0.5) = {binom.pmf(7, 20, 0.5)}')\n",
    "print(f'p(k=7; n=20, theta=0.5) = {binom.cdf(11, 20, 0.5)}')"
   ]
  },
  {
   "cell_type": "code",
   "execution_count": 43,
   "id": "c1af4ff5-3a98-4bf2-a7c6-c604eeafb14c",
   "metadata": {},
   "outputs": [],
   "source": [
    "theta = 1/6\n",
    "max_min = 1000\n",
    "trials = 100000\n",
    "\n",
    "# definir objeto para guardar minutos de espera en cada ensayo\n",
    "waiting_times = []\n",
    "\n",
    "# for loop\n",
    "\n",
    "for i in range(trials):\n",
    "    mins = 0\n",
    "    # while loop\n",
    "    while True:\n",
    "        mins += 1\n",
    "        result = binom.rvs(1, theta) # ensayo de Bernoulli\n",
    "        if result == 1:\n",
    "            waiting_times.append(mins)\n",
    "            break\n",
    "        if mins >= max_min:\n",
    "            break\n"
   ]
  },
  {
   "cell_type": "code",
   "execution_count": 44,
   "id": "9ec9331d-0228-46db-a000-8ceafd4aaa1f",
   "metadata": {},
   "outputs": [
    {
     "data": {
      "text/plain": [
       "np.float64(6.00799)"
      ]
     },
     "execution_count": 44,
     "metadata": {},
     "output_type": "execute_result"
    }
   ],
   "source": [
    "np.mean(waiting_times) # queeing theory"
   ]
  },
  {
   "cell_type": "markdown",
   "id": "565250a6-d7bc-4ae7-8c86-d6ac1342fed1",
   "metadata": {},
   "source": [
    "¿Cuál es la probabilidad de esperar menos de 3 minutos para la siguiente llamada?\n",
    "- Asumir que las llamadas ocurren de forma independiente.\n",
    "- Asumir que suceden con una tasa constante."
   ]
  },
  {
   "cell_type": "code",
   "execution_count": 49,
   "id": "c646b5b4-4bec-42c2-ba9d-2cdb099f80fb",
   "metadata": {},
   "outputs": [
    {
     "name": "stdout",
     "output_type": "stream",
     "text": [
      "Probabilidad de que x < 3 = 0.4511883639059736\n"
     ]
    }
   ],
   "source": [
    "import numpy as np\n",
    "import matplotlib.pyplot as plt\n",
    "from scipy.stats import expon\n",
    "\n",
    "media_tiempo = 5\n",
    "prob_menos_que_3 = expon.cdf(3, scale=5)\n",
    "print(f'Probabilidad de que x < 3 = {prob_menos_que_3}')"
   ]
  },
  {
   "cell_type": "code",
   "execution_count": 51,
   "id": "be06f24f-d592-405d-a45e-239ff64c717e",
   "metadata": {},
   "outputs": [
    {
     "data": {
      "text/plain": [
       "<matplotlib.legend.Legend at 0x134d752e0>"
      ]
     },
     "execution_count": 51,
     "metadata": {},
     "output_type": "execute_result"
    },
    {
     "data": {
      "image/png": "[encoded data removed]",
      "text/plain": [
       "<Figure size 640x480 with 1 Axes>"
      ]
     },
     "metadata": {},
     "output_type": "display_data"
    }
   ],
   "source": [
    "x = np.linspace(0, 20, 1000)\n",
    "pdf_x = expon.pdf(x, scale=media_tiempo)\n",
    "\n",
    "plt.plot(x, pdf_x, label='tiempos de espera')\n",
    "plt.fill_between(x, pdf_x, where=(x < 3), color='red', label='P(x < 3)')\n",
    "plt.axvline(media_tiempo)\n",
    "plt.legend()\n"
   ]
  },
  {
   "cell_type": "code",
   "execution_count": 52,
   "id": "0e390cc0-e43a-45d8-a301-c70f0166df18",
   "metadata": {},
   "outputs": [
    {
     "name": "stdout",
     "output_type": "stream",
     "text": [
      "Probabilidad de que x < 5 = 0.6321205588285577\n"
     ]
    }
   ],
   "source": [
    "prob_menos_que_5 = expon.cdf(5, scale=5)\n",
    "print(f'Probabilidad de que x < 5 = {prob_menos_que_5}')"
   ]
  },
  {
   "cell_type": "markdown",
   "id": "5523e4aa-aa43-44d3-92d6-aab28ac50297",
   "metadata": {},
   "source": [
    "Un centro de atención al cliente tiene un agente que atiende llamadas entrantes. Las llamadas llegan aleatoriamente, y el tiempo entre llamadas sigue una distribución exponencial con una tasa promedio de 10 llamadas por hora (λ = 10). El tiempo que el agente tarda en atender cada llamada también sigue una distribución exponencial con una tasa promedio de 12 llamadas por hora (μ = 12).\n",
    "\n",
    "Queremos simular la operación del centro de atención al cliente durante un día laboral de 8 horas (480 minutos) para determinar:\n",
    "\n",
    "* El tiempo de espera promedio para los llamantes.\n",
    "* El número promedio de llamantes en la cola.\n",
    "* La tasa de utilización del agente."
   ]
  },
  {
   "cell_type": "code",
   "execution_count": 53,
   "id": "b49319db-e1a3-43ab-b808-35bf4f97c319",
   "metadata": {},
   "outputs": [],
   "source": []
  }
 ],
 "metadata": {
  "kernelspec": {
   "display_name": "Python 3 (ipykernel)",
   "language": "python",
   "name": "python3"
  },
  "language_info": {
   "codemirror_mode": {
    "name": "ipython",
    "version": 3
   },
   "file_extension": ".py",
   "mimetype": "text/x-python",
   "name": "python",
   "nbconvert_exporter": "python",
   "pygments_lexer": "ipython3",
   "version": "3.12.2"
  }
 },
 "nbformat": 4,
 "nbformat_minor": 5
}
