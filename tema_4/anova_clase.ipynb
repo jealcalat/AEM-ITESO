{
 "cells": [
  {
   "cell_type": "markdown",
   "id": "902de167-dace-40a7-8f52-f80b0f41e2b5",
   "metadata": {},
   "source": [
    "Ejemplo de ANOVA de una vía"
   ]
  },
  {
   "cell_type": "code",
   "execution_count": 120,
   "id": "97757461-bedc-46d9-8a33-91628a8fd223",
   "metadata": {
    "tags": []
   },
   "outputs": [
    {
     "data": {
      "text/plain": [
       "(6, 4)"
      ]
     },
     "execution_count": 120,
     "metadata": {},
     "output_type": "execute_result"
    }
   ],
   "source": [
    "import pandas as pd\n",
    "# Queremos medir si tres tipos de fertilizante promueven el crecimiento de una planta.\n",
    "datos = pd.DataFrame({\n",
    "    'Control': [21, 19.5, 22.5, 21.5, 20.5, 21],\n",
    "    'F1': [32, 30.5, 25, 27.5, 28, 28.6],\n",
    "    'F2': [22.5, 26, 28, 27, 26.5, 25.2],\n",
    "    'F3': [28, 27.5, 31, 29.5, 30, 29.2]\n",
    "})\n",
    "\n",
    "# a este formato de datos le llaman 'wide' format\n",
    "datos.shape"
   ]
  },
  {
   "cell_type": "code",
   "execution_count": 2,
   "id": "244b1c09-af29-4642-a1b8-462390753df4",
   "metadata": {
    "tags": []
   },
   "outputs": [
    {
     "data": {
      "text/html": [
       "<div>\n",
       "<style scoped>\n",
       "    .dataframe tbody tr th:only-of-type {\n",
       "        vertical-align: middle;\n",
       "    }\n",
       "\n",
       "    .dataframe tbody tr th {\n",
       "        vertical-align: top;\n",
       "    }\n",
       "\n",
       "    .dataframe thead th {\n",
       "        text-align: right;\n",
       "    }\n",
       "</style>\n",
       "<table border=\"1\" class=\"dataframe\">\n",
       "  <thead>\n",
       "    <tr style=\"text-align: right;\">\n",
       "      <th></th>\n",
       "      <th>Tratamiento</th>\n",
       "      <th>Crecimiento</th>\n",
       "    </tr>\n",
       "  </thead>\n",
       "  <tbody>\n",
       "    <tr>\n",
       "      <th>0</th>\n",
       "      <td>Control</td>\n",
       "      <td>21.0</td>\n",
       "    </tr>\n",
       "    <tr>\n",
       "      <th>1</th>\n",
       "      <td>Control</td>\n",
       "      <td>19.5</td>\n",
       "    </tr>\n",
       "    <tr>\n",
       "      <th>2</th>\n",
       "      <td>Control</td>\n",
       "      <td>22.5</td>\n",
       "    </tr>\n",
       "    <tr>\n",
       "      <th>3</th>\n",
       "      <td>Control</td>\n",
       "      <td>21.5</td>\n",
       "    </tr>\n",
       "    <tr>\n",
       "      <th>4</th>\n",
       "      <td>Control</td>\n",
       "      <td>20.5</td>\n",
       "    </tr>\n",
       "  </tbody>\n",
       "</table>\n",
       "</div>"
      ],
      "text/plain": [
       "  Tratamiento  Crecimiento\n",
       "0     Control         21.0\n",
       "1     Control         19.5\n",
       "2     Control         22.5\n",
       "3     Control         21.5\n",
       "4     Control         20.5"
      ]
     },
     "execution_count": 2,
     "metadata": {},
     "output_type": "execute_result"
    }
   ],
   "source": [
    "datos_long = datos.melt(var_name='Tratamiento', value_name='Crecimiento')\n",
    "datos_long.head()"
   ]
  },
  {
   "cell_type": "markdown",
   "id": "f5119776-1103-4027-bb09-8ce8611924b0",
   "metadata": {},
   "source": [
    "crecimiento ~ tratamiento"
   ]
  },
  {
   "cell_type": "code",
   "execution_count": 56,
   "id": "a84303b2-1667-4917-aaec-20421a781cc5",
   "metadata": {
    "tags": []
   },
   "outputs": [
    {
     "data": {
      "text/plain": [
       "<Axes: xlabel='Tratamiento', ylabel='Crecimiento'>"
      ]
     },
     "execution_count": 56,
     "metadata": {},
     "output_type": "execute_result"
    },
    {
     "data": {
      "image/png": "[encoded data removed]",
      "text/plain": [
       "<Figure size 800x600 with 1 Axes>"
      ]
     },
     "metadata": {},
     "output_type": "display_data"
    }
   ],
   "source": [
    "import seaborn as sns\n",
    "import matplotlib.pyplot as plt\n",
    "import scipy.stats as stats\n",
    "import numpy as np\n",
    "\n",
    "plt.figure(figsize=(8, 6))\n",
    "sns.boxplot(x='Tratamiento', y='Crecimiento', data=datos_long)"
   ]
  },
  {
   "cell_type": "code",
   "execution_count": 77,
   "id": "56c678ee-0913-4ace-bc7c-b1b5204ec09b",
   "metadata": {},
   "outputs": [
    {
     "name": "stdout",
     "output_type": "stream",
     "text": [
      "                            OLS Regression Results                            \n",
      "==============================================================================\n",
      "Dep. Variable:            Crecimiento   R-squared:                       0.805\n",
      "Model:                            OLS   Adj. R-squared:                  0.775\n",
      "Method:                 Least Squares   F-statistic:                     27.46\n",
      "Date:                Mon, 13 Nov 2023   Prob (F-statistic):           2.71e-07\n",
      "Time:                        14:39:34   Log-Likelihood:                -45.255\n",
      "No. Observations:                  24   AIC:                             98.51\n",
      "Df Residuals:                      20   BIC:                             103.2\n",
      "Df Model:                           3                                         \n",
      "Covariance Type:            nonrobust                                         \n",
      "=====================================================================================\n",
      "                        coef    std err          t      P>|t|      [0.025      0.975]\n",
      "-------------------------------------------------------------------------------------\n",
      "Intercept            21.0000      0.713     29.446      0.000      19.512      22.488\n",
      "Tratamiento[T.F1]     7.6000      1.009      7.535      0.000       5.496       9.704\n",
      "Tratamiento[T.F2]     4.8667      1.009      4.825      0.000       2.763       6.971\n",
      "Tratamiento[T.F3]     8.2000      1.009      8.130      0.000       6.096      10.304\n",
      "==============================================================================\n",
      "Omnibus:                        1.184   Durbin-Watson:                   1.817\n",
      "Prob(Omnibus):                  0.553   Jarque-Bera (JB):                0.410\n",
      "Skew:                          -0.301   Prob(JB):                        0.815\n",
      "Kurtosis:                       3.215   Cond. No.                         4.79\n",
      "==============================================================================\n",
      "\n",
      "Notes:\n",
      "[1] Standard Errors assume that the covariance matrix of the errors is correctly specified.\n"
     ]
    }
   ],
   "source": [
    "import statsmodels.formula.api as smf\n",
    "import statsmodels.api as sm\n",
    "anv = smf.ols('Crecimiento ~ Tratamiento', data=datos_long).fit()\n",
    "\n",
    "print(anv.summary())"
   ]
  },
  {
   "cell_type": "markdown",
   "id": "7d923adc-6d4d-4f66-8ec1-4bf21ef8f2f1",
   "metadata": {},
   "source": [
    "El estadístico F de 27.46 proviene de la varianza del modelo dividida entre la varianza del modelo entre la varianza del residuo. Esto se obtiene, como vimos, descomponiendo las sumas de cuadrados. \n",
    "\n",
    "Suma de cuadrados total ($SS_T$).\n",
    "\n",
    "$$SS_T = \\sum_{j=1}^k\\sum_{i=1}^{n_j}=(y_{ij} - \\bar{y})^2$$ \n",
    "\n",
    "En donde $k$ es el número de factores, $n_j$ es el número de observaciones en el grupo $j$, $\\bar{y}$ es la media total y $y_{ij}$ es la respuesta en la observación $i$ del grupo $j$. \n",
    "\n",
    "Se llama suma de cuadrados total ($SS_T$) a la suma de cuadrados entre los grupos ($SS_G$) y la suma de cuadrados dentro de los grupos ($SS_W$). Matemáticamente, se expresa así: \n",
    "\n",
    "$$SS_T = SS_G + SS_W$$\n",
    "\n",
    "En ocasiones, el $SS_W$ se denomina suma de cuadrados residual ($SS_R$) o suma de cuadrados de error ($SS_E$). Básicamente, captura la variación que no se explica por los factores (que sería $SS_G$ o también llamada suma de cuadrados del modelo, $SS_M$).\n",
    "\n",
    "Se calcula la suma de cuadrados entre los grupos ($SS_G$) y la suma de cuadrados dentro de los grupos ($SS_W$) con las fórmulas siguientes: \n",
    "\n",
    "$$SS_G = \\sum_{j=1}^{k} n_j (\\bar{y}_j - \\bar{y})^2$$ \n",
    "\n",
    "$$SS_W = \\sum_{j=1}^{k} \\sum_{i=1}^{n_j} (y_{ij} - \\bar{y}_j)^2$$ \n",
    "\n",
    "Donde $k$ es el número de factores, $n_j$ es el número de observaciones en el grupo $j$, $\\bar{y}_j$ es la media de las respuestas en el grupo $j$ y $y_{ij}$ es la respuesta en la observación $i$ del grupo $j$.\n",
    "\n",
    "La $SS_G$ será grande si la diferencia $\\bar{y}_j - \\bar{y}$ es grande. Cuanto más grande sea $SS_G$, mayor será el porcentaje de variación que se explica por los factores, por lo que tenemos más evidencia en contra de $H_0$. La $SS_W$ será grande si la diferencia $y_{ij} - \\bar{y}_j$ es grande. Cuanto más grande sea $SS_W$, menor será el porcentaje de variación que se explica por los factores.\n",
    "\n",
    "\n",
    "La varianza entre los grupos ($MSG$, también conocida como $MSE_M$) y la varianza dentro de los grupos ($MSW$ o conocida también como $MSE_R$) se calcula con $$MSG = \\frac{SSG}{k-1}$$ $$MSW = \\frac{SSW}{N-k}$$ Donde $k$ es el número de factores y $N$ es el número de observaciones.\n",
    "\n",
    "El valor F es una medida de la variación entre los grupos dividida por la variación dentro de los grupos. Considera que la variación entre los grupos es la variación que se explica por los factores y la variación dentro de los grupos es la variación que no se explica por los factores. Matemáticamente, se expresa como: \n",
    "\n",
    "$$F = \\frac{MSG}{MSW}$$\n",
    "\n",
    "En los resultados de `statmodels`, el `mse_model` corresponde a nuestro $MSG$ (la varianza explicada por el tratamiento) y `mse_resid` corresponde a nuestro $MSW$ (la varianza no explicada por el tratamiento)."
   ]
  },
  {
   "cell_type": "code",
   "execution_count": 23,
   "id": "cdffacb1-8502-4b40-bf64-a1f45016137b",
   "metadata": {},
   "outputs": [
    {
     "name": "stdout",
     "output_type": "stream",
     "text": [
      "                            OLS Regression Results                            \n",
      "==============================================================================\n",
      "Dep. Variable:            Crecimiento   R-squared:                       0.805\n",
      "Model:                            OLS   Adj. R-squared:                  0.775\n",
      "Method:                 Least Squares   F-statistic:                     27.46\n",
      "Date:                Mon, 13 Nov 2023   Prob (F-statistic):           2.71e-07\n",
      "Time:                        13:55:37   Log-Likelihood:                -45.255\n",
      "No. Observations:                  24   AIC:                             98.51\n",
      "Df Residuals:                      20   BIC:                             103.2\n",
      "Df Model:                           3                                         \n",
      "Covariance Type:            nonrobust                                         \n",
      "=====================================================================================\n",
      "                        coef    std err          t      P>|t|      [0.025      0.975]\n",
      "-------------------------------------------------------------------------------------\n",
      "Intercept            21.0000      0.713     29.446      0.000      19.512      22.488\n",
      "Tratamiento[T.F1]     7.6000      1.009      7.535      0.000       5.496       9.704\n",
      "Tratamiento[T.F2]     4.8667      1.009      4.825      0.000       2.763       6.971\n",
      "Tratamiento[T.F3]     8.2000      1.009      8.130      0.000       6.096      10.304\n",
      "==============================================================================\n",
      "Omnibus:                        1.184   Durbin-Watson:                   1.817\n",
      "Prob(Omnibus):                  0.553   Jarque-Bera (JB):                0.410\n",
      "Skew:                          -0.301   Prob(JB):                        0.815\n",
      "Kurtosis:                       3.215   Cond. No.                         4.79\n",
      "==============================================================================\n",
      "\n",
      "Notes:\n",
      "[1] Standard Errors assume that the covariance matrix of the errors is correctly specified.\n"
     ]
    }
   ],
   "source": [
    "print(anv.summary())"
   ]
  },
  {
   "cell_type": "code",
   "execution_count": 53,
   "id": "7b2c619e-b61d-4dfc-b9fe-0ab902c760b1",
   "metadata": {},
   "outputs": [
    {
     "name": "stdout",
     "output_type": "stream",
     "text": [
      " Error total 312.47, es la suma de el residual + el modelo = 312.47\n"
     ]
    }
   ],
   "source": [
    "N = datos_long.shape[0]\n",
    "k = 4\n",
    "error_total = anv.mse_total * (N - 1) # porque tiene N -1 grados de libertad\n",
    "error_modelo = anv.mse_model * (k - 1) # porque tiene k-1 grados de libertad\n",
    "error_residual = anv.mse_resid * (N - k) # porque tiene N-k grados de libertad\n",
    "print(f' Error total {error_total.round(2)}, es la suma de el residual + el modelo = {error_modelo.round(2) + error_residual.round(2)}')"
   ]
  },
  {
   "cell_type": "code",
   "execution_count": 52,
   "id": "759cfe6b-ee43-4b1a-ac81-4519e2021262",
   "metadata": {},
   "outputs": [
    {
     "data": {
      "text/plain": [
       "27.464773347897328"
      ]
     },
     "execution_count": 52,
     "metadata": {},
     "output_type": "execute_result"
    }
   ],
   "source": [
    "F_obs = anv.mse_model/anv.mse_resid\n",
    "F_obs"
   ]
  },
  {
   "cell_type": "code",
   "execution_count": 54,
   "id": "3b5689e6-2c1f-4914-917b-2220650eda38",
   "metadata": {},
   "outputs": [
    {
     "data": {
      "text/plain": [
       "2.711994409043683e-07"
      ]
     },
     "execution_count": 54,
     "metadata": {},
     "output_type": "execute_result"
    }
   ],
   "source": [
    "1 - stats.f.cdf(F_obs, k - 1, N - k)"
   ]
  },
  {
   "cell_type": "code",
   "execution_count": 62,
   "id": "bc83407b-5aac-49c8-94d6-e8fb448e263b",
   "metadata": {},
   "outputs": [
    {
     "data": {
      "text/plain": [
       "<matplotlib.legend.Legend at 0x7f2173771570>"
      ]
     },
     "execution_count": 62,
     "metadata": {},
     "output_type": "execute_result"
    },
    {
     "data": {
      "image/png": "[encoded data removed]",
      "text/plain": [
       "<Figure size 640x480 with 1 Axes>"
      ]
     },
     "metadata": {},
     "output_type": "display_data"
    }
   ],
   "source": [
    "# plot the F distribution for the null and add the F_stat in blue and the F_critical at 5% in red.\n",
    "# The null is that the groups have the same mean, so the F-statistic should be close to 1.\n",
    "F_critical = stats.f.ppf(0.95, k - 1, N - k)\n",
    "F_quantiles = np.linspace(0, 30, 1000)\n",
    "F_pdf = stats.f.pdf(F_quantiles, k - 1, N - k)\n",
    "\n",
    "plt.plot(F_quantiles, F_pdf, label=\"F distribution\")\n",
    "plt.axvline(F_obs, color=\"b\", label=\"F-statistic\")\n",
    "plt.axvline(F_critical, color=\"r\", label=\"F-critical\")\n",
    "plt.title(\"F-distribution for the null hypothesis\")\n",
    "plt.xlabel(\"F-statistic\")\n",
    "plt.ylabel(\"Density\")\n",
    "# annotate the text of the F-critical and F-statistic values vertically within bbox\n",
    "plt.text(F_critical*1.05, 0.1, f'F-critical = {F_critical.round(2)}', \n",
    "         rotation=90, bbox=dict(facecolor='none', edgecolor='r',boxstyle='round'), alpha=0.5)\n",
    "plt.text(F_obs*1.03, 0.1, f'F-observado = {F_obs.round(2)}', \n",
    "         rotation=90, bbox=dict(facecolor='none', edgecolor='b',boxstyle='round'), alpha=0.5)\n",
    "plt.legend()"
   ]
  },
  {
   "cell_type": "markdown",
   "id": "30c542a3-4e5a-412f-92ce-88d1fb916985",
   "metadata": {},
   "source": [
    "Comprobando asunciones"
   ]
  },
  {
   "cell_type": "code",
   "execution_count": 78,
   "id": "fe9fafdd-9823-4b88-9c11-f0aba1aecff9",
   "metadata": {},
   "outputs": [
    {
     "data": {
      "image/png": "[encoded data removed]",
      "text/plain": [
       "<Figure size 640x480 with 1 Axes>"
      ]
     },
     "metadata": {},
     "output_type": "display_data"
    }
   ],
   "source": [
    "res = anv.resid\n",
    "\n",
    "fig = sm.qqplot(res, line='s')  # 's' indica una línea de referencia ajustada a la muestra\n",
    "\n"
   ]
  },
  {
   "cell_type": "markdown",
   "id": "b90f3782-6cbb-4c9c-9b32-7df0bde1bfb5",
   "metadata": {},
   "source": [
    "El gráfico sugiere que la distribución de los residuos (o errores) no es diferente a la de una distribución normal con media de 0. Sin embargo, para estar seguros, podemos correr una prueba de Shapiro-Wilk."
   ]
  },
  {
   "cell_type": "code",
   "execution_count": 108,
   "id": "ed0173d6-0447-4d37-aba8-d2e5b02b75d4",
   "metadata": {},
   "outputs": [
    {
     "name": "stdout",
     "output_type": "stream",
     "text": [
      "ShapiroResult(statistic=0.9732214212417603, pvalue=0.7464066743850708)\n"
     ]
    }
   ],
   "source": [
    "# Normalidad de los residuos usando la prueba de Shapiro-Wilk\n",
    "\n",
    "shapiro_test = stats.shapiro(anv.resid)\n",
    "\n",
    "print(shapiro_test)"
   ]
  },
  {
   "cell_type": "code",
   "execution_count": null,
   "id": "f7a572cb-ceb4-4f4d-a980-27dd27ceb74c",
   "metadata": {},
   "outputs": [],
   "source": []
  },
  {
   "cell_type": "markdown",
   "id": "e4011e18-37f6-4013-8be1-886b5bd00b76",
   "metadata": {},
   "source": [
    "El valor $p$ sugiere que, a un nivel de significancia de 0.05, no se puede descartar la hipótesis de que los residuos tengan una distribución normal.\n",
    "\n",
    "Para probar que la varianza es homogénea entre los grupos, realizamos una prueba de Levene."
   ]
  },
  {
   "cell_type": "code",
   "execution_count": 109,
   "id": "00689c51-7328-4df9-8003-6382703204af",
   "metadata": {},
   "outputs": [
    {
     "data": {
      "text/plain": [
       "LeveneResult(statistic=1.0491159135559924, pvalue=0.3926038372880547)"
      ]
     },
     "execution_count": 109,
     "metadata": {},
     "output_type": "execute_result"
    }
   ],
   "source": [
    "# Homogeneidad de varianzas usando la prueba de Levene\n",
    "levene_test = stats.levene(datos_long['Crecimiento'][datos_long['Tratamiento'] == 'Control'],\n",
    "                           datos_long['Crecimiento'][datos_long['Tratamiento'] == 'F1'],\n",
    "                           datos_long['Crecimiento'][datos_long['Tratamiento'] == 'F2'],\n",
    "                           datos_long['Crecimiento'][datos_long['Tratamiento'] == 'F3'])\n",
    "\n",
    "# Resultados\n",
    "levene_test"
   ]
  },
  {
   "cell_type": "markdown",
   "id": "19bbdb3c-a43a-46da-a659-8accd43bd8d4",
   "metadata": {},
   "source": [
    "En la prueba de Levene, la hipótesis nula a probar es la de igualdad de varianzas. Es decir, rechazamos esa hipótesis solo si obtenemos un valor $p$ por debajo de un nivel de significancia (e.g., 0.05). Como obtuvimos un valor $p$ mayor, concluimos que no tenemos evidencia para rechazar que los grupos tengan la misma varianza. \n",
    "\n",
    "Ya que probamos que el análisis cumple con los supuestos del ANOVA, y que nuestra ANOVA mostró diferencias significativas entre los grupos, procedemos a encontrar en qué grupos suceden las diferencias."
   ]
  },
  {
   "cell_type": "markdown",
   "id": "cfd9e238-3fdb-4fe0-a544-afaab6f59ff9",
   "metadata": {},
   "source": [
    "El análisis de varianza nos dice que hay una diferencia significativa entre los grupos, pero no nos dice cuál grupo es diferente.Para saberlo, se debe realizar un análisis de comparación de medias.\n",
    "\n",
    "Para la comparación múltiple podemos usar el HSD (honest significant difference) de Tukey. Consiste en comparar cada grupo con el resto de los grupos. \n",
    "\n",
    "¿Por qué no simplemente comparamos entre los grupos usando, por ejemplo, pruebas $t$? Eso es porque los datos provienen de una sola muestra y estaremos comparando simultáneamente diferentes hipótesis. Recordar cuáles son esas hipótesos:\n",
    "\n",
    "$$\n",
    "H_0: \\mu_1=\\mu_2=\\dots=\\mu_k; H_a=\\mu_i\\neq\\mu_j,\\quad \\text{para al menos un } i\\neq j\n",
    "$$\n",
    "\n",
    "Cada desigualdad en la hipótesis alternativa puede ser tratada como una hipótesis diferente. Por ejemplo, $\\mu_1\\neq \\mu_2$ y $\\mu_1 \\neq \\mu_3$ serían dos hipótesis separadas y simultáneas. Usar un mismo valor $p$, por ejemplo $p<0.05$ como criterio de aceptación sería erróneo dado que ese $p<0.05$ sería para una sola hipótesis. Esto nos llevaría a algo conocido fomo *Familywise error rate* (FWER), que es una tasa de error a la que incurrimos cuando probamos $n$ hipótesis sin controlar para el valor $p$.La tasa de errores se calcula como\n",
    "\n",
    "$$\n",
    "FMER = 1 - (1-\\alpha)^n\n",
    "$$\n",
    "\n",
    "Si, por ejemplo, tenemos $n=5$ hipótesis y un $\\alpha=0.05$, el error ya no sería $0.05$ sino $(1-(1-\\alpha)^5=0.226$. Esto sinifica que si no ajustamos el valor $p$ para cada prueba, tendríamos un erro de más del 22%. Es decir, estaríamos rechazando una hipótesis nula de no diferencias en más de 1/5 casos, cuando originalmente queríamos una tasa de error de menos de 1/20 casos (nuestro 0.05). Para mantener el error global en 0.05, tenemos que hacer ajustes al valor p.\n",
    "\n",
    "Otra forma de probar las hipótesis es calcular el HSD de Tukey y compararlo con el HSD crítico, lo que mantiene el FWER por debajo del nivel de significancia elegido (0.05). El HSD crítico se calcula con la siguiente fórmula:\n",
    "\n",
    "$$\\mathrm{HSD}_\\text{critical value}=q_{\\text{crit}}\\sqrt{\\frac{\\mathrm{MSE}}{n_j}}$$\n",
    "\n",
    "$$\n",
    "\\left|\\overline{y}_{i}-\\overline{y}_{j}\\right|>\\mathrm{HSD}_\\text{critical value}\n",
    "$$\n",
    "\n",
    "En donde $\\hat{y}_{i}$ es la media de las respuestas en el grupo $i$, $\\hat{y}_{j}$ es la media de las respuestas en el grupo $j$, $n_j$ es el número réplicas por grupo (la cantidad de observaciones por cada grupo), $MSE$ es el error cuadrático medio (en nuestro ejemplo corresponde a `anv.mse_resid`), y $q_{\\text{crit}}$ es el valor crítico de la distribución estudentizada de rango múltiple. \n",
    "\n",
    "El $q_{\\text{crit}}$ es el valor crítico de la distribución de rango estudentizada. Es difícil calcular manualmente el $q_{\\text{crit}}$. Por lo tanto, se puede usar la tabla de Tukey para obtener el $q_{\\text{crit}}$. \n",
    "\n",
    "La clave del HSD es el valor $q_\\text{crit}$. Éste considera:\n",
    "\n",
    "* El número total de comparaciones que se están realizando.\n",
    "* El número total de observaciones en el análisis.\n",
    "* El nivel de significancia deseado (por ejemplo, α=0.05).\n",
    "\n",
    "Por lo tanto, cuando calculamos el valor crítico de Tukey HSD usando la distribución de Studentizada de rango múltiple, estamos utilizando una distribución que proporciona rangos de valores críticos más estrictos o mayores comparados con los que se obtendrían en una prueba $t$ para una sola comparación. Esto se debe a que esta distribución ajusta los valores críticos para mantener la FWER al nivel de $\\alpha$ deseado para todas las comparaciones posibles, no solo para una individual.\n",
    "\n",
    "Entonces, incluso si hacemos múltiples comparaciones, la distribución asegura que el umbral para rechazar la *hipótesis nula es más alto*, lo que hace que sea más difícil obtener un resultado estadísticamente significativo por casualidad."
   ]
  },
  {
   "cell_type": "markdown",
   "id": "3942674a-902f-4603-8419-a4bf82ec96f2",
   "metadata": {},
   "source": [
    "Para realizar la prueba de HSD de Tukey, cargamos `statsmodels.stats.multicomp` para realizar comparaciones múltiples."
   ]
  },
  {
   "cell_type": "code",
   "execution_count": 114,
   "id": "bfa12952-e912-4899-a7e8-a50bf0c1c535",
   "metadata": {},
   "outputs": [
    {
     "data": {
      "text/plain": [
       "(24, 2)"
      ]
     },
     "execution_count": 114,
     "metadata": {},
     "output_type": "execute_result"
    }
   ],
   "source": [
    "datos_long.shape"
   ]
  },
  {
   "cell_type": "code",
   "execution_count": 149,
   "id": "22c9f8e4-fe47-408f-a6df-2e549da8f327",
   "metadata": {},
   "outputs": [
    {
     "data": {
      "text/html": [
       "<table class=\"simpletable\">\n",
       "<caption>Multiple Comparison of Means - Tukey HSD, FWER=0.05</caption>\n",
       "<tr>\n",
       "  <th>group1</th>  <th>group2</th> <th>meandiff</th>  <th>p-adj</th>  <th>lower</th>   <th>upper</th>  <th>reject</th>\n",
       "</tr>\n",
       "<tr>\n",
       "  <td>Control</td>   <td>F1</td>      <td>7.6</td>     <td>0.0</td>  <td>4.7771</td>  <td>10.4229</td>  <td>True</td> \n",
       "</tr>\n",
       "<tr>\n",
       "  <td>Control</td>   <td>F2</td>    <td>4.8667</td>  <td>0.0006</td> <td>2.0437</td>  <td>7.6896</td>   <td>True</td> \n",
       "</tr>\n",
       "<tr>\n",
       "  <td>Control</td>   <td>F3</td>      <td>8.2</td>     <td>0.0</td>  <td>5.3771</td>  <td>11.0229</td>  <td>True</td> \n",
       "</tr>\n",
       "<tr>\n",
       "    <td>F1</td>      <td>F2</td>    <td>-2.7333</td> <td>0.0599</td> <td>-5.5563</td> <td>0.0896</td>   <td>False</td>\n",
       "</tr>\n",
       "<tr>\n",
       "    <td>F1</td>      <td>F3</td>      <td>0.6</td>   <td>0.9324</td> <td>-2.2229</td> <td>3.4229</td>   <td>False</td>\n",
       "</tr>\n",
       "<tr>\n",
       "    <td>F2</td>      <td>F3</td>    <td>3.3333</td>  <td>0.0171</td> <td>0.5104</td>  <td>6.1563</td>   <td>True</td> \n",
       "</tr>\n",
       "</table>"
      ],
      "text/plain": [
       "<class 'statsmodels.iolib.table.SimpleTable'>"
      ]
     },
     "execution_count": 149,
     "metadata": {},
     "output_type": "execute_result"
    }
   ],
   "source": [
    "import statsmodels.stats.multicomp as multi\n",
    "tukey = multi.pairwise_tukeyhsd(datos_long.Crecimiento, datos_long.Tratamiento, alpha=0.05)\n",
    "tukey.summary()"
   ]
  },
  {
   "cell_type": "markdown",
   "id": "41844102-a517-49eb-ae39-cc0528b25238",
   "metadata": {},
   "source": [
    "Como podemos ver, tenemos $k^2$ comparaciones. La tabla muestra la diferencia entre Control y F3 como la diferencia mayor (con un `meandiff` de 8.2), seguida de la comparación entre Control y F1 (`meandiff=7.6`). La última columna nos indica si tenemos que rechazar la hipótesis de no diferencias. Siempre que la diferencia entre dos grupos sea significativa, rechazamos la nula de no diferencias. Notar que las columnas `lower` y `upper` muestran un rango de valores en donde `meandiff` cae. Cuando ese rango contiene al 0 (por ejemplo, en F1 vs V2 el rango es [-5.5, 0.089]) `reject` es False. El intervalo compuesto por `[lower, upper]` es conocido como intervalo de confianza."
   ]
  },
  {
   "cell_type": "markdown",
   "id": "f49cffd5-09a6-43f4-8ea6-b7f2fbb6fb4d",
   "metadata": {},
   "source": [
    "Solo para completar, los valores relevantes de los que hemos hablado, como HSD y $q_\\text{crit}$, se pueden obtener fácilmente.\n",
    "\n",
    "$$\\mathrm{HSD}_\\text{critical value}=q_{\\text{crit}}\\sqrt{\\frac{\\mathrm{MSE}}{n_i}}$$\n",
    "\n",
    "En nuestro caso, nuestro $n_j=6$, que es la cantidad réplicas por grupo (o la cantidad de observaciones que tenemos por grupo)."
   ]
  },
  {
   "cell_type": "code",
   "execution_count": 132,
   "id": "bc8cc515-066f-4571-a2e9-f5e4c6d4e98b",
   "metadata": {},
   "outputs": [
    {
     "data": {
      "text/plain": [
       "2.822935281447719"
      ]
     },
     "execution_count": 132,
     "metadata": {},
     "output_type": "execute_result"
    }
   ],
   "source": [
    "hsd = tukey.q_crit * np.sqrt(anv.mse_resid / 6)\n",
    "hsd"
   ]
  },
  {
   "cell_type": "markdown",
   "id": "2c9e8ec5-9f40-4c1e-89e8-d6cfbe1b679b",
   "metadata": {},
   "source": [
    "Notar que siempre que el valor absoluto de `meandiff` es menor o igual a $\\text{HSD}$, se acepta la nula (`reject` es `False`).# Plot the results\n",
    "tukey.plot_simultaneous()"
   ]
  },
  {
   "cell_type": "code",
   "execution_count": 150,
   "id": "d40436f3-cd0f-4bcc-bfaa-bc124f716620",
   "metadata": {},
   "outputs": [
    {
     "data": {
      "image/png": "[encoded data removed]",
      "text/plain": [
       "<Figure size 400x300 with 1 Axes>"
      ]
     },
     "metadata": {},
     "output_type": "display_data"
    }
   ],
   "source": [
    "# Plot the transposed data with tukey.plot_simultaneous()\n",
    "tukey.plot_simultaneous(figsize=(4, 3))\n",
    "\n",
    "plt.show()"
   ]
  },
  {
   "cell_type": "markdown",
   "id": "b762deaa-8c06-4cb3-8ce6-f6a68fbb6449",
   "metadata": {},
   "source": [
    "Ahora, hacer un gráfico con los intervalos de confianza de las diferencias."
   ]
  },
  {
   "cell_type": "code",
   "execution_count": 190,
   "id": "c6421138-9da4-4c7f-90ee-49c8cf15cb53",
   "metadata": {},
   "outputs": [
    {
     "data": {
      "text/html": [
       "<div>\n",
       "<style scoped>\n",
       "    .dataframe tbody tr th:only-of-type {\n",
       "        vertical-align: middle;\n",
       "    }\n",
       "\n",
       "    .dataframe tbody tr th {\n",
       "        vertical-align: top;\n",
       "    }\n",
       "\n",
       "    .dataframe thead th {\n",
       "        text-align: right;\n",
       "    }\n",
       "</style>\n",
       "<table border=\"1\" class=\"dataframe\">\n",
       "  <thead>\n",
       "    <tr style=\"text-align: right;\">\n",
       "      <th></th>\n",
       "      <th>group1</th>\n",
       "      <th>group2</th>\n",
       "      <th>meandiff</th>\n",
       "      <th>p-adj</th>\n",
       "      <th>lower</th>\n",
       "      <th>upper</th>\n",
       "      <th>reject</th>\n",
       "    </tr>\n",
       "  </thead>\n",
       "  <tbody>\n",
       "    <tr>\n",
       "      <th>0</th>\n",
       "      <td>Control</td>\n",
       "      <td>F1</td>\n",
       "      <td>7.6000</td>\n",
       "      <td>0.0000</td>\n",
       "      <td>4.7771</td>\n",
       "      <td>10.4229</td>\n",
       "      <td>True</td>\n",
       "    </tr>\n",
       "    <tr>\n",
       "      <th>1</th>\n",
       "      <td>Control</td>\n",
       "      <td>F2</td>\n",
       "      <td>4.8667</td>\n",
       "      <td>0.0006</td>\n",
       "      <td>2.0437</td>\n",
       "      <td>7.6896</td>\n",
       "      <td>True</td>\n",
       "    </tr>\n",
       "    <tr>\n",
       "      <th>2</th>\n",
       "      <td>Control</td>\n",
       "      <td>F3</td>\n",
       "      <td>8.2000</td>\n",
       "      <td>0.0000</td>\n",
       "      <td>5.3771</td>\n",
       "      <td>11.0229</td>\n",
       "      <td>True</td>\n",
       "    </tr>\n",
       "    <tr>\n",
       "      <th>3</th>\n",
       "      <td>F1</td>\n",
       "      <td>F2</td>\n",
       "      <td>-2.7333</td>\n",
       "      <td>0.0599</td>\n",
       "      <td>-5.5563</td>\n",
       "      <td>0.0896</td>\n",
       "      <td>False</td>\n",
       "    </tr>\n",
       "    <tr>\n",
       "      <th>4</th>\n",
       "      <td>F1</td>\n",
       "      <td>F3</td>\n",
       "      <td>0.6000</td>\n",
       "      <td>0.9324</td>\n",
       "      <td>-2.2229</td>\n",
       "      <td>3.4229</td>\n",
       "      <td>False</td>\n",
       "    </tr>\n",
       "    <tr>\n",
       "      <th>5</th>\n",
       "      <td>F2</td>\n",
       "      <td>F3</td>\n",
       "      <td>3.3333</td>\n",
       "      <td>0.0171</td>\n",
       "      <td>0.5104</td>\n",
       "      <td>6.1563</td>\n",
       "      <td>True</td>\n",
       "    </tr>\n",
       "  </tbody>\n",
       "</table>\n",
       "</div>"
      ],
      "text/plain": [
       "    group1 group2  meandiff   p-adj   lower    upper  reject\n",
       "0  Control     F1    7.6000  0.0000  4.7771  10.4229    True\n",
       "1  Control     F2    4.8667  0.0006  2.0437   7.6896    True\n",
       "2  Control     F3    8.2000  0.0000  5.3771  11.0229    True\n",
       "3       F1     F2   -2.7333  0.0599 -5.5563   0.0896   False\n",
       "4       F1     F3    0.6000  0.9324 -2.2229   3.4229   False\n",
       "5       F2     F3    3.3333  0.0171  0.5104   6.1563    True"
      ]
     },
     "execution_count": 190,
     "metadata": {},
     "output_type": "execute_result"
    }
   ],
   "source": [
    "tukey_summary = tukey.summary()\n",
    "df_tukey_summary = pd.DataFrame(tukey_summary.data[1:], columns=tukey_summary.data[0])\n",
    "df_tukey_summary"
   ]
  },
  {
   "cell_type": "code",
   "execution_count": 199,
   "id": "877e2e68-fa0a-4660-9fd6-054b5deb2392",
   "metadata": {},
   "outputs": [
    {
     "data": {
      "text/html": [
       "<div>\n",
       "<style scoped>\n",
       "    .dataframe tbody tr th:only-of-type {\n",
       "        vertical-align: middle;\n",
       "    }\n",
       "\n",
       "    .dataframe tbody tr th {\n",
       "        vertical-align: top;\n",
       "    }\n",
       "\n",
       "    .dataframe thead th {\n",
       "        text-align: right;\n",
       "    }\n",
       "</style>\n",
       "<table border=\"1\" class=\"dataframe\">\n",
       "  <thead>\n",
       "    <tr style=\"text-align: right;\">\n",
       "      <th></th>\n",
       "      <th>group1</th>\n",
       "      <th>group2</th>\n",
       "      <th>meandiff</th>\n",
       "      <th>p-adj</th>\n",
       "      <th>lower</th>\n",
       "      <th>upper</th>\n",
       "      <th>reject</th>\n",
       "      <th>G1 - G2</th>\n",
       "      <th>GroupDiff</th>\n",
       "    </tr>\n",
       "  </thead>\n",
       "  <tbody>\n",
       "    <tr>\n",
       "      <th>0</th>\n",
       "      <td>Control</td>\n",
       "      <td>F1</td>\n",
       "      <td>7.6000</td>\n",
       "      <td>0.0000</td>\n",
       "      <td>4.7771</td>\n",
       "      <td>10.4229</td>\n",
       "      <td>True</td>\n",
       "      <td>Control - F1</td>\n",
       "      <td>Control - F1</td>\n",
       "    </tr>\n",
       "    <tr>\n",
       "      <th>1</th>\n",
       "      <td>Control</td>\n",
       "      <td>F2</td>\n",
       "      <td>4.8667</td>\n",
       "      <td>0.0006</td>\n",
       "      <td>2.0437</td>\n",
       "      <td>7.6896</td>\n",
       "      <td>True</td>\n",
       "      <td>Control - F2</td>\n",
       "      <td>Control - F2</td>\n",
       "    </tr>\n",
       "    <tr>\n",
       "      <th>2</th>\n",
       "      <td>Control</td>\n",
       "      <td>F3</td>\n",
       "      <td>8.2000</td>\n",
       "      <td>0.0000</td>\n",
       "      <td>5.3771</td>\n",
       "      <td>11.0229</td>\n",
       "      <td>True</td>\n",
       "      <td>Control - F3</td>\n",
       "      <td>Control - F3</td>\n",
       "    </tr>\n",
       "    <tr>\n",
       "      <th>3</th>\n",
       "      <td>F1</td>\n",
       "      <td>F2</td>\n",
       "      <td>-2.7333</td>\n",
       "      <td>0.0599</td>\n",
       "      <td>-5.5563</td>\n",
       "      <td>0.0896</td>\n",
       "      <td>False</td>\n",
       "      <td>F1 - F2</td>\n",
       "      <td>F1 - F2</td>\n",
       "    </tr>\n",
       "    <tr>\n",
       "      <th>4</th>\n",
       "      <td>F1</td>\n",
       "      <td>F3</td>\n",
       "      <td>0.6000</td>\n",
       "      <td>0.9324</td>\n",
       "      <td>-2.2229</td>\n",
       "      <td>3.4229</td>\n",
       "      <td>False</td>\n",
       "      <td>F1 - F3</td>\n",
       "      <td>F1 - F3</td>\n",
       "    </tr>\n",
       "    <tr>\n",
       "      <th>5</th>\n",
       "      <td>F2</td>\n",
       "      <td>F3</td>\n",
       "      <td>3.3333</td>\n",
       "      <td>0.0171</td>\n",
       "      <td>0.5104</td>\n",
       "      <td>6.1563</td>\n",
       "      <td>True</td>\n",
       "      <td>F2 - F3</td>\n",
       "      <td>F2 - F3</td>\n",
       "    </tr>\n",
       "  </tbody>\n",
       "</table>\n",
       "</div>"
      ],
      "text/plain": [
       "    group1 group2  meandiff   p-adj   lower    upper  reject       G1 - G2  \\\n",
       "0  Control     F1    7.6000  0.0000  4.7771  10.4229    True  Control - F1   \n",
       "1  Control     F2    4.8667  0.0006  2.0437   7.6896    True  Control - F2   \n",
       "2  Control     F3    8.2000  0.0000  5.3771  11.0229    True  Control - F3   \n",
       "3       F1     F2   -2.7333  0.0599 -5.5563   0.0896   False       F1 - F2   \n",
       "4       F1     F3    0.6000  0.9324 -2.2229   3.4229   False       F1 - F3   \n",
       "5       F2     F3    3.3333  0.0171  0.5104   6.1563    True       F2 - F3   \n",
       "\n",
       "      GroupDiff  \n",
       "0  Control - F1  \n",
       "1  Control - F2  \n",
       "2  Control - F3  \n",
       "3       F1 - F2  \n",
       "4       F1 - F3  \n",
       "5       F2 - F3  "
      ]
     },
     "execution_count": 199,
     "metadata": {},
     "output_type": "execute_result"
    }
   ],
   "source": [
    "df_tukey_summary['GroupDiff'] = df_tukey_summary['group1'] + ' - ' + df_tukey_summary['group2']\n",
    "# alternativamente [\"{} - {}\".format(row[0], row[1]) for row in tukey_summary.data[1:]]\n",
    "df_tukey_summary"
   ]
  },
  {
   "cell_type": "code",
   "execution_count": 209,
   "id": "3471f980-7276-45c8-b624-21fc0c783955",
   "metadata": {},
   "outputs": [
    {
     "data": {
      "image/png": "[encoded data removed]",
      "text/plain": [
       "<Figure size 640x480 with 1 Axes>"
      ]
     },
     "metadata": {},
     "output_type": "display_data"
    }
   ],
   "source": [
    "# Calculate the error margins\n",
    "errors = [df_tukey_summary['meandiff'] - df_tukey_summary['lower'], df_tukey_summary['upper'] - df_tukey_summary['meandiff']]\n",
    "\n",
    "# Create the scatter plot with error bars\n",
    "plt.errorbar(x=range(len(df_tukey_summary)), y=df_tukey_summary['meandiff'], yerr=errors, fmt='o')\n",
    "\n",
    "# Set the x-tick labels to your groups, rotated for better readability\n",
    "plt.xticks(range(len(df_tukey_summary)), df_tukey_summary['GroupDiff'], rotation=45)\n",
    "\n",
    "# Adding labels and title for clarity\n",
    "plt.xlabel('Group Comparisons')\n",
    "plt.ylabel('Mean Difference')\n",
    "plt.title('Error bar plot of mean differences with Tukey HSD')\n",
    "plt.axhline(y=0,color='r', linestyle=':')\n",
    "# Show the plot\n",
    "plt.tight_layout()  # Adjust layout for better fit\n",
    "plt.show()"
   ]
  },
  {
   "cell_type": "markdown",
   "id": "1ac39a03-2d39-4c7e-b7ff-e81b02046185",
   "metadata": {},
   "source": [
    "## Actividades\n",
    "\n",
    "Un laboratorio llevó a cabo 6 mediciones de alquitrán en tres marcas de cigarro conocidas. Sus resultados se muestran a continuación\n",
    "\n",
    "| Muestra | Marca A | Marca B | Marca C |\n",
    "|--------|---------|---------|---------|\n",
    "| 1      | 10.21   | 11.32   | 11.60   |\n",
    "| 2      | 10.25   | 11.20   | 11.90   |\n",
    "| 3      | 10.24   | 11.40   | 11.80   |\n",
    "| 4      | 9.80    | 10.50   | 12.30   |\n",
    "| 5      | 9.77    | 10.68   | 12.20   |\n",
    "| 6      | 9.73    | 10.90   | 12.20   |\n",
    "\n",
    "\n",
    "1. Realiza análisis exploratorio de las variables. Puedes elegir entre histogramas o boxplots.\n",
    "2. Convierte los datos en formato *long*.\n",
    "3. Realiza un análisis de varianza usando *OLS* de `statmodels`.\n",
    "4. ¿Qué marca fue usada como referencia (intercepto en el modelo)? ¿Cuál es el promedio estimado de alquitrán en cada marca? Usa los estimadores del modelo de OLS.\n",
    "4. Comprueba las asunciones: normalidad de los residuos (qq-plot y test de Shapiro-Wilks) y homocedasticidad (test de Levene).\n",
    "6. Concluye si el ANOVA es significativo, y menciona qué significa eso.\n",
    "7. Si el ANOVA resulta significativo, realiza un análisis de seguimiendo usando el HSD de Tukey.\n",
    "8. Concluye a partir de las diferencias observadas. Responde preguntas como ¿qué marca tiene más alquitrán?, ¿qué marcas tienen alquitrán parecido?, ¿entre qué marcas existe la mayor diferencia?\n"
   ]
  },
  {
   "cell_type": "code",
   "execution_count": 103,
   "id": "bcf86366-10a6-40e2-ac05-13a03ce11aad",
   "metadata": {},
   "outputs": [
    {
     "data": {
      "text/html": [
       "<div>\n",
       "<style scoped>\n",
       "    .dataframe tbody tr th:only-of-type {\n",
       "        vertical-align: middle;\n",
       "    }\n",
       "\n",
       "    .dataframe tbody tr th {\n",
       "        vertical-align: top;\n",
       "    }\n",
       "\n",
       "    .dataframe thead th {\n",
       "        text-align: right;\n",
       "    }\n",
       "</style>\n",
       "<table border=\"1\" class=\"dataframe\">\n",
       "  <thead>\n",
       "    <tr style=\"text-align: right;\">\n",
       "      <th></th>\n",
       "      <th>Brand A</th>\n",
       "      <th>Brand B</th>\n",
       "      <th>Brand C</th>\n",
       "    </tr>\n",
       "  </thead>\n",
       "  <tbody>\n",
       "    <tr>\n",
       "      <th>1</th>\n",
       "      <td>10.21</td>\n",
       "      <td>5.780002</td>\n",
       "      <td>11.6</td>\n",
       "    </tr>\n",
       "    <tr>\n",
       "      <th>2</th>\n",
       "      <td>10.25</td>\n",
       "      <td>15.533695</td>\n",
       "      <td>11.9</td>\n",
       "    </tr>\n",
       "    <tr>\n",
       "      <th>3</th>\n",
       "      <td>10.24</td>\n",
       "      <td>11.571764</td>\n",
       "      <td>11.8</td>\n",
       "    </tr>\n",
       "    <tr>\n",
       "      <th>4</th>\n",
       "      <td>9.80</td>\n",
       "      <td>10.888532</td>\n",
       "      <td>12.3</td>\n",
       "    </tr>\n",
       "    <tr>\n",
       "      <th>5</th>\n",
       "      <td>9.77</td>\n",
       "      <td>11.506774</td>\n",
       "      <td>12.2</td>\n",
       "    </tr>\n",
       "    <tr>\n",
       "      <th>6</th>\n",
       "      <td>9.73</td>\n",
       "      <td>13.200603</td>\n",
       "      <td>12.2</td>\n",
       "    </tr>\n",
       "  </tbody>\n",
       "</table>\n",
       "</div>"
      ],
      "text/plain": [
       "   Brand A    Brand B  Brand C\n",
       "1    10.21   5.780002     11.6\n",
       "2    10.25  15.533695     11.9\n",
       "3    10.24  11.571764     11.8\n",
       "4     9.80  10.888532     12.3\n",
       "5     9.77  11.506774     12.2\n",
       "6     9.73  13.200603     12.2"
      ]
     },
     "execution_count": 103,
     "metadata": {},
     "output_type": "execute_result"
    }
   ],
   "source": [
    "data = {\n",
    "    'Brand A': [10.21, 10.25, 10.24, 9.80, 9.77, 9.73],\n",
    "    'Brand B': [11.32, 11.20, 11.40, 10.50, 10.68, 10.90],\n",
    "    'Brand C': [11.60, 11.90, 11.80, 12.30, 12.20, 12.20]\n",
    "}\n",
    "\n",
    "# Creamos el DataFrame con los datos\n",
    "df_alquitran = pd.DataFrame(data, index=[1, 2, 3, 4, 5, 6])\n",
    "df_alquitran"
   ]
  },
  {
   "cell_type": "code",
   "execution_count": 104,
   "id": "a393d0bd-be77-4612-a78b-8ede8adbc159",
   "metadata": {},
   "outputs": [
    {
     "data": {
      "text/html": [
       "<div>\n",
       "<style scoped>\n",
       "    .dataframe tbody tr th:only-of-type {\n",
       "        vertical-align: middle;\n",
       "    }\n",
       "\n",
       "    .dataframe tbody tr th {\n",
       "        vertical-align: top;\n",
       "    }\n",
       "\n",
       "    .dataframe thead th {\n",
       "        text-align: right;\n",
       "    }\n",
       "</style>\n",
       "<table border=\"1\" class=\"dataframe\">\n",
       "  <thead>\n",
       "    <tr style=\"text-align: right;\">\n",
       "      <th></th>\n",
       "      <th>Marca</th>\n",
       "      <th>Alquitran</th>\n",
       "    </tr>\n",
       "  </thead>\n",
       "  <tbody>\n",
       "    <tr>\n",
       "      <th>0</th>\n",
       "      <td>Brand A</td>\n",
       "      <td>10.21</td>\n",
       "    </tr>\n",
       "    <tr>\n",
       "      <th>1</th>\n",
       "      <td>Brand A</td>\n",
       "      <td>10.25</td>\n",
       "    </tr>\n",
       "    <tr>\n",
       "      <th>2</th>\n",
       "      <td>Brand A</td>\n",
       "      <td>10.24</td>\n",
       "    </tr>\n",
       "    <tr>\n",
       "      <th>3</th>\n",
       "      <td>Brand A</td>\n",
       "      <td>9.80</td>\n",
       "    </tr>\n",
       "    <tr>\n",
       "      <th>4</th>\n",
       "      <td>Brand A</td>\n",
       "      <td>9.77</td>\n",
       "    </tr>\n",
       "  </tbody>\n",
       "</table>\n",
       "</div>"
      ],
      "text/plain": [
       "     Marca  Alquitran\n",
       "0  Brand A      10.21\n",
       "1  Brand A      10.25\n",
       "2  Brand A      10.24\n",
       "3  Brand A       9.80\n",
       "4  Brand A       9.77"
      ]
     },
     "execution_count": 104,
     "metadata": {},
     "output_type": "execute_result"
    }
   ],
   "source": [
    "df_alquitran_long = df_alquitran.melt(var_name='Marca', value_name='Alquitran')\n",
    "df_alquitran_long.head()"
   ]
  },
  {
   "cell_type": "code",
   "execution_count": 105,
   "id": "840f2228-d0ad-47bc-bc35-7c272d5a4d38",
   "metadata": {},
   "outputs": [
    {
     "data": {
      "text/plain": [
       "<Axes: xlabel='Marca', ylabel='Alquitran'>"
      ]
     },
     "execution_count": 105,
     "metadata": {},
     "output_type": "execute_result"
    },
    {
     "data": {
      "image/png": "[encoded data removed]",
      "text/plain": [
       "<Figure size 800x600 with 1 Axes>"
      ]
     },
     "metadata": {},
     "output_type": "display_data"
    }
   ],
   "source": [
    "plt.figure(figsize=(8, 6))\n",
    "sns.boxplot(x='Marca', y='Alquitran', data=df_alquitran_long)"
   ]
  },
  {
   "cell_type": "code",
   "execution_count": 106,
   "id": "9ff28e13-280d-4567-825b-92c9b299ca24",
   "metadata": {},
   "outputs": [
    {
     "name": "stderr",
     "output_type": "stream",
     "text": [
      "/home/mrrobot/anaconda3/lib/python3.10/site-packages/scipy/stats/_stats_py.py:1736: UserWarning: kurtosistest only valid for n>=20 ... continuing anyway, n=18\n",
      "  warnings.warn(\"kurtosistest only valid for n>=20 ... continuing \"\n"
     ]
    },
    {
     "data": {
      "text/html": [
       "<table class=\"simpletable\">\n",
       "<caption>OLS Regression Results</caption>\n",
       "<tr>\n",
       "  <th>Dep. Variable:</th>        <td>Alquitran</td>    <th>  R-squared:         </th> <td>   0.193</td>\n",
       "</tr>\n",
       "<tr>\n",
       "  <th>Model:</th>                   <td>OLS</td>       <th>  Adj. R-squared:    </th> <td>   0.086</td>\n",
       "</tr>\n",
       "<tr>\n",
       "  <th>Method:</th>             <td>Least Squares</td>  <th>  F-statistic:       </th> <td>   1.797</td>\n",
       "</tr>\n",
       "<tr>\n",
       "  <th>Date:</th>             <td>Mon, 13 Nov 2023</td> <th>  Prob (F-statistic):</th>  <td> 0.200</td> \n",
       "</tr>\n",
       "<tr>\n",
       "  <th>Time:</th>                 <td>17:21:02</td>     <th>  Log-Likelihood:    </th> <td> -35.247</td>\n",
       "</tr>\n",
       "<tr>\n",
       "  <th>No. Observations:</th>      <td>    18</td>      <th>  AIC:               </th> <td>   76.49</td>\n",
       "</tr>\n",
       "<tr>\n",
       "  <th>Df Residuals:</th>          <td>    15</td>      <th>  BIC:               </th> <td>   79.17</td>\n",
       "</tr>\n",
       "<tr>\n",
       "  <th>Df Model:</th>              <td>     2</td>      <th>                     </th>     <td> </td>   \n",
       "</tr>\n",
       "<tr>\n",
       "  <th>Covariance Type:</th>      <td>nonrobust</td>    <th>                     </th>     <td> </td>   \n",
       "</tr>\n",
       "</table>\n",
       "<table class=\"simpletable\">\n",
       "<tr>\n",
       "          <td></td>            <th>coef</th>     <th>std err</th>      <th>t</th>      <th>P>|t|</th>  <th>[0.025</th>    <th>0.975]</th>  \n",
       "</tr>\n",
       "<tr>\n",
       "  <th>Intercept</th>        <td>   10.0000</td> <td>    0.767</td> <td>   13.040</td> <td> 0.000</td> <td>    8.365</td> <td>   11.635</td>\n",
       "</tr>\n",
       "<tr>\n",
       "  <th>Marca[T.Brand B]</th> <td>    1.4136</td> <td>    1.084</td> <td>    1.303</td> <td> 0.212</td> <td>   -0.898</td> <td>    3.725</td>\n",
       "</tr>\n",
       "<tr>\n",
       "  <th>Marca[T.Brand C]</th> <td>    2.0000</td> <td>    1.084</td> <td>    1.844</td> <td> 0.085</td> <td>   -0.312</td> <td>    4.312</td>\n",
       "</tr>\n",
       "</table>\n",
       "<table class=\"simpletable\">\n",
       "<tr>\n",
       "  <th>Omnibus:</th>       <td>16.319</td> <th>  Durbin-Watson:     </th> <td>   2.809</td>\n",
       "</tr>\n",
       "<tr>\n",
       "  <th>Prob(Omnibus):</th> <td> 0.000</td> <th>  Jarque-Bera (JB):  </th> <td>  25.683</td>\n",
       "</tr>\n",
       "<tr>\n",
       "  <th>Skew:</th>          <td>-1.138</td> <th>  Prob(JB):          </th> <td>2.65e-06</td>\n",
       "</tr>\n",
       "<tr>\n",
       "  <th>Kurtosis:</th>      <td> 8.391</td> <th>  Cond. No.          </th> <td>    3.73</td>\n",
       "</tr>\n",
       "</table><br/><br/>Notes:<br/>[1] Standard Errors assume that the covariance matrix of the errors is correctly specified."
      ],
      "text/plain": [
       "<class 'statsmodels.iolib.summary.Summary'>\n",
       "\"\"\"\n",
       "                            OLS Regression Results                            \n",
       "==============================================================================\n",
       "Dep. Variable:              Alquitran   R-squared:                       0.193\n",
       "Model:                            OLS   Adj. R-squared:                  0.086\n",
       "Method:                 Least Squares   F-statistic:                     1.797\n",
       "Date:                Mon, 13 Nov 2023   Prob (F-statistic):              0.200\n",
       "Time:                        17:21:02   Log-Likelihood:                -35.247\n",
       "No. Observations:                  18   AIC:                             76.49\n",
       "Df Residuals:                      15   BIC:                             79.17\n",
       "Df Model:                           2                                         \n",
       "Covariance Type:            nonrobust                                         \n",
       "====================================================================================\n",
       "                       coef    std err          t      P>|t|      [0.025      0.975]\n",
       "------------------------------------------------------------------------------------\n",
       "Intercept           10.0000      0.767     13.040      0.000       8.365      11.635\n",
       "Marca[T.Brand B]     1.4136      1.084      1.303      0.212      -0.898       3.725\n",
       "Marca[T.Brand C]     2.0000      1.084      1.844      0.085      -0.312       4.312\n",
       "==============================================================================\n",
       "Omnibus:                       16.319   Durbin-Watson:                   2.809\n",
       "Prob(Omnibus):                  0.000   Jarque-Bera (JB):               25.683\n",
       "Skew:                          -1.138   Prob(JB):                     2.65e-06\n",
       "Kurtosis:                       8.391   Cond. No.                         3.73\n",
       "==============================================================================\n",
       "\n",
       "Notes:\n",
       "[1] Standard Errors assume that the covariance matrix of the errors is correctly specified.\n",
       "\"\"\""
      ]
     },
     "execution_count": 106,
     "metadata": {},
     "output_type": "execute_result"
    }
   ],
   "source": [
    "anv_alquitran = smf.ols('Alquitran ~ Marca', data=df_alquitran_long).fit()\n",
    "anv_alquitran.summary()"
   ]
  },
  {
   "cell_type": "code",
   "execution_count": 107,
   "id": "2d17ea1c-40db-4988-ae63-2ec11560ec78",
   "metadata": {},
   "outputs": [
    {
     "data": {
      "image/png": "[encoded data removed]",
      "text/plain": [
       "<Figure size 640x480 with 1 Axes>"
      ]
     },
     "metadata": {},
     "output_type": "display_data"
    }
   ],
   "source": [
    "res = anv_alquitran.resid\n",
    "\n",
    "fig = sm.qqplot(res, line='s')  # 's' indica una línea de referencia ajustada a la muestra\n"
   ]
  },
  {
   "cell_type": "code",
   "execution_count": null,
   "id": "64b22d01-6c2d-4981-b51a-042fe1117a68",
   "metadata": {},
   "outputs": [],
   "source": []
  }
 ],
 "metadata": {
  "kernelspec": {
   "display_name": "Python 3 (ipykernel)",
   "language": "python",
   "name": "python3"
  },
  "language_info": {
   "codemirror_mode": {
    "name": "ipython",
    "version": 3
   },
   "file_extension": ".py",
   "mimetype": "text/x-python",
   "name": "python",
   "nbconvert_exporter": "python",
   "pygments_lexer": "ipython3",
   "version": "3.10.9"
  }
 },
 "nbformat": 4,
 "nbformat_minor": 5
}
