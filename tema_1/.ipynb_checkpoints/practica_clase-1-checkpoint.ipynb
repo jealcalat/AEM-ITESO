{
 "cells": [
  {
   "cell_type": "markdown",
   "id": "8aba2cfc-72b6-46a8-b48f-710c036d82b9",
   "metadata": {},
   "source": [
    "# Encabezado 1\n",
    "\n",
    "Este es el primer encabezado.\n",
    "\n",
    "Negritas y cursivas:\n",
    "\n",
    "**negritas**, __negritas__\n",
    "\n",
    "*cursivas*, _cursivas_\n",
    "\n",
    "Links:\n",
    "\n",
    "El repositorio del curso se encuentra [aquí](https://github.com/jealcalat/python4da).\n",
    "\n",
    "Matemáticas (ecuaciones):\n",
    "\n",
    "Ecuaciones en línea: $f(x) = x^2$\n",
    "\n",
    "Eucaciones centradas:\n",
    "\n",
    "$$ f(x) = x^2 $$\n",
    "\n",
    "Sumatorias:\n",
    "\n",
    "$$ \\sum_{i=1}^n x_i $$\n",
    "\n",
    "$$ \\int_a^b x dx $$\n",
    "\n",
    "Tablas:\n",
    "\n",
    "| a | b | c |\n",
    "|---|---|---|\n",
    "| 2 | 3 | 4 |\n",
    "| 2 | 3 | 4 |\n",
    "| 2 | 3 | 4 |\n",
    "| 2 | 3 | 4 |\n"
   ]
  },
  {
   "cell_type": "markdown",
   "id": "4a07efa1-275a-441e-9360-2eaa28763682",
   "metadata": {},
   "source": [
    "## Concepto de población y de muestra\n",
    "\n",
    "- Una *población* es el conjunto de todos los elementos medibles.\n",
    "- Una *muestra* es un subconjunto de la población.\n"
   ]
  },
  {
   "cell_type": "code",
   "execution_count": 4,
   "id": "bf2755fc-b4d3-4acb-9af8-817aef09f18b",
   "metadata": {},
   "outputs": [],
   "source": [
    "import numpy as np\n",
    "import matplotlib.pyplot as plt"
   ]
  },
  {
   "cell_type": "code",
   "execution_count": 7,
   "id": "0a378133-19ca-4220-b1f3-c74f2b554298",
   "metadata": {},
   "outputs": [
    {
     "data": {
      "text/plain": [
       "20000"
      ]
     },
     "execution_count": 7,
     "metadata": {},
     "output_type": "execute_result"
    }
   ],
   "source": [
    "# simular una distribución normal con media de 60 y desviación estándar de 5\n",
    "\n",
    "n = 20000\n",
    "media = 60\n",
    "sd = 5\n",
    "pesos = np.random.normal(media, sd, n)\n",
    "len(pesos)"
   ]
  },
  {
   "cell_type": "markdown",
   "id": "b0649d50-ef4b-4d9b-86c0-2e29ff98fc66",
   "metadata": {},
   "source": [
    "Ahora graficamos un histograma de los pesos."
   ]
  },
  {
   "cell_type": "code",
   "execution_count": 14,
   "id": "e807fc24-e801-4212-a428-625d75b50b99",
   "metadata": {},
   "outputs": [
    {
     "data": {
      "text/plain": [
       "Text(0.5, 1.0, 'Histograma poblacional')"
      ]
     },
     "execution_count": 14,
     "metadata": {},
     "output_type": "execute_result"
    },
    {
     "data": {
      "image/png": "[encoded data removed]",
      "text/plain": [
       "<Figure size 640x480 with 1 Axes>"
      ]
     },
     "metadata": {},
     "output_type": "display_data"
    }
   ],
   "source": [
    "plt.hist(pesos, bins=90);\n",
    "plt.xlabel(\"Peso\")\n",
    "plt.ylabel(\"Cantidad\")\n",
    "plt.title(\"Histograma poblacional\")"
   ]
  },
  {
   "cell_type": "markdown",
   "id": "f3083051-1833-452a-af76-a58fc1d212ff",
   "metadata": {},
   "source": [
    "Obtener una muestra de 'pesos' con una n de 120."
   ]
  },
  {
   "cell_type": "code",
   "execution_count": 15,
   "id": "b9d0c468-c88f-466d-b1c5-dc033d05fc91",
   "metadata": {},
   "outputs": [
    {
     "data": {
      "text/plain": [
       "120"
      ]
     },
     "execution_count": 15,
     "metadata": {},
     "output_type": "execute_result"
    }
   ],
   "source": [
    "n_sample = 120\n",
    "pesos_sample = np.random.choice(pesos, n_sample, replace=False)\n",
    "len(pesos_sample)"
   ]
  },
  {
   "cell_type": "code",
   "execution_count": 19,
   "id": "360e014e-b692-4ea1-be36-71b577baa394",
   "metadata": {},
   "outputs": [
    {
     "data": {
      "image/png": "[encoded data removed]",
      "text/plain": [
       "<Figure size 640x480 with 1 Axes>"
      ]
     },
     "metadata": {},
     "output_type": "display_data"
    }
   ],
   "source": [
    "plt.hist(pesos_sample);"
   ]
  },
  {
   "cell_type": "markdown",
   "id": "dc2141b8-b7d1-424d-abd0-ebbb8c7ca771",
   "metadata": {},
   "source": [
    "Obtener.\n",
    "\n",
    "- Media.\n",
    "- Desviación estándar."
   ]
  },
  {
   "cell_type": "code",
   "execution_count": 28,
   "id": "17a87a39-166a-4da3-bb71-2e656fe1658c",
   "metadata": {},
   "outputs": [
    {
     "name": "stdout",
     "output_type": "stream",
     "text": [
      "Media poblacional: 59.969\n",
      "\n",
      "Media muestral: 59.942\n",
      "\n",
      "Desviación estándar poblacional: 5.026\n",
      "\n",
      "Desviación estándar muestral: 5.413\n"
     ]
    }
   ],
   "source": [
    "media_pob = np.mean(pesos).round(3)\n",
    "media_muest = np.mean(pesos_sample).round(3)\n",
    "\n",
    "sd_pob = np.std(pesos).round(3)\n",
    "sd_muest = np.std(pesos_sample).round(3)\n",
    "\n",
    "print(f'''Media poblacional: {media_pob}\\n\n",
    "Media muestral: {media_muest}\\n\n",
    "Desviación estándar poblacional: {sd_pob}\\n\n",
    "Desviación estándar muestral: {sd_muest}''')"
   ]
  },
  {
   "cell_type": "code",
   "execution_count": null,
   "id": "984487cd-8cce-4604-8b06-78a1fe56dc19",
   "metadata": {},
   "outputs": [],
   "source": []
  }
 ],
 "metadata": {
  "kernelspec": {
   "display_name": "Python 3 (ipykernel)",
   "language": "python",
   "name": "python3"
  },
  "language_info": {
   "codemirror_mode": {
    "name": "ipython",
    "version": 3
   },
   "file_extension": ".py",
   "mimetype": "text/x-python",
   "name": "python",
   "nbconvert_exporter": "python",
   "pygments_lexer": "ipython3",
   "version": "3.11.5"
  }
 },
 "nbformat": 4,
 "nbformat_minor": 5
}
