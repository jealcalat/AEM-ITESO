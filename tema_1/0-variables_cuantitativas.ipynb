{
 "cells": [
  {
   "attachments": {},
   "cell_type": "markdown",
   "metadata": {},
   "source": [
    "# Tema 0. Estadística descriptiva\n",
    "\n",
    "En la jerga de DS por _variable_ vamos a entender la medición de una _característica_ o _atributo_. Ejemplos de variables son: edad, peso, longitud, latitud, precio, ingreso, etc.\n",
    "\n",
    "## Clasificaciones de variables\n",
    "\n",
    "Las variables pueden ser clasificadas por su representación numérica, o por cómo son _medidas_ (es decir, cómo son asignados números a los atributos de acuerdo a una regla, su escala de medición). Las variables también pueden ser clasificadas de acuerdo a cómo están asociadas unas con otras.\n",
    "\n",
    "---\n",
    "\n",
    "Esta es una clasificación de acuerdo a su representación numérica. Las variables discretas son contables infintas (pueden sear asignados números naturales $\\mathbb{N}=\\{1, 2, 3, \\dots\\}$). Las variables continuas son incontables infinitas (pueden ser asignadas a los números reales $\\mathbb{R}$).\n",
    "\n",
    "<figure>\n",
    "<p align=\"center\">\n",
    "  <img src=\"img/variable_types.png\" width='50%' />\n",
    "      <figcaption>\n",
    "      <p align=\"center\"> Tipos de variables (tomada de OpenInstro Statistics)</p>\n",
    "      </figcaption>\n",
    "</p>\n",
    "</figure>\n",
    "\n",
    "Las variables categóricas podrían considerarse un tipo de variable discreta, pero no es del todo cierto. Las variables categóricas no tienen porqué seguir un orden en particular ni ser asignadas a un subconjunto de números. Por ejemplo, la variable sexo puede ser tan bien representada por (0, 1) como por (1, 2). La variable ordinal Nivel educativo puede ser tan bien representada con (0, 1, 2, 3) como por (1,2, 3, 4) etc.\n",
    "\n",
    "---\n",
    "\n",
    "De acuerdo a su nivel de medición, pueden ser clasificadas como nominales, ordinales, de intervalo y de razón.\n",
    "\n",
    "Las **variables con escala nominal** no tienen una correspondencia numérica específica. Se les asignan números solo para identificarlas. Las operaciones aritméticas de suma, resta, multiplicación, división, etc, no tienen sentido, porque el número que se les asigna no implica más o menos cantidad de su atributo. La única operación permitida es la de conteo, su estadística descriptiva se hace con frecuencias y porcentajes.\n",
    "\n",
    "Las **variables en escala ordinal** tampoco tienen una correspondencia, siempre y cuando sean asignados valores que preserven el orden de rango. No pueden describir grados de diferencia ni magnitud relativa entre dos observaciones con diferente orden. Por ejemplo, Alberto califica de bueno un libro que Luis calificó con de malo en una escala de $\\{\\text{pésimo, malo, regular, bueno, excelente}\\}$. No podemos decir que el libro fue doblemente bueno para Alberto que para Luis. También se pueden describir con frecuencias y porcentajes, pero además con mediana y rango.\n",
    "\n",
    "Las **las variables en escala de intervalo** sí tienen una correspondencia precisa que debe preservar orden y magnitud. Se puede sumar y restar con valores en esta escala, pero no dividir ni multiplicar. El 0 es arbitrario (como en los grados Celcius) por lo que un 0 no implica ausencia del atributo, y no se puede decir que 20 °C es el doble de caliente que 10 °C. Para ver esto, por ejemplo, 20C = 68F y 10C = 50F. Mientras que 20/10 es 2, 68/50 no.\n",
    " Todo intervalo en una escala de intervalo es igual que otro intervalo en la escala: $15-10=30 - 25$. Sus estadísticos descriptivos son media, desviación estándar, varianza (y por extensión mediana y rango).\n",
    "\n",
    "Las **variables en escala de razón** tienen todas las propiedades de las intervalares (conservan orden y magnitud), además de un 0 verdadero, en el que el 0 sí significa una ausencia de magnitud. Se puede sumar, restar, dividir y multiplicar en estas escalas. Pueden expresar magnitudes relativas (e.g., 4 metros es el doble de 2 metros). Sus estadísticos descriptivos, además de media, desviación estándar, varianza, mediana y rango, son la media geométrica, coeficiente de variación.\n",
    "\n",
    "## Estadísticos descriptivos\n",
    "\n",
    "La estadística se divide clásicamente en dos grandes ramas: la descriptiva y la inferencial (a su vez en estimación y prueba de hipótesis). La estadística descriptiva se ocupa de resumir y visualizar los datos, mientras que la inferencial se ocupa de hacer inferencias sobre la población a partir de una muestra. Existen dos tipos de estadísticos descriptivos: los de locación y los de dispersión.\n",
    "\n",
    "¿Por qué es necesaria la estadística? Para responder a esto, necesitamos hacer una diferencia entre población y muestra.\n",
    "\n",
    "La **población** es el conjunto de todos los individuos de interés en un estudio. Por individuos nos referimos a personas, animales, plantas, ítems, obetos, etc.\n",
    "\n",
    "La **muestra** es un subconjunto de la población. La estadística descriptiva se ocupa de resumir y visualizar los datos de la muestra, mientras que la inferencial se ocupa de hacer inferencias sobre la población a partir de una muestra.\n",
    "\n",
    "Si tuviéramos acceso a todos los individuos de la población, no necesitaríamos estadística. Pero en la práctica, esto es imposible. Por ejemplo, si quisiéramos saber la edad de todos los habitantes de una ciudad, no podríamos hacerlo. En cambio, podemos tomar una muestra de la población, y a partir de ella, hacer inferencias _sobre la población_.\n"
   ]
  },
  {
   "attachments": {},
   "cell_type": "markdown",
   "metadata": {},
   "source": [
    "### Estadísticos según la variable\n",
    "\n",
    "Las operaciones estadísticas que están definidas o son permitidas varían según el tipo de variable. Vamos a describir las operaciones y medidas estadísticas comúnmente aplicadas a cada tipo:\n",
    "\n",
    "    Numéricas\n",
    "\n",
    "    1.1. Continuas:\n",
    "        Medidas de tendencia central: media (promedio), mediana, moda.\n",
    "        Medidas de dispersión: desviación estándar, varianza, rango, rango intercuartílico.\n",
    "        Correlaciones: coeficiente de correlación de Pearson, coeficiente de Spearman (si bien es para variables ordinales, puede usarse en datos continuos con relaciones no lineales).\n",
    "        Modelado: Regresión lineal, regresión polinomial, entre otros.\n",
    "\n",
    "    1.2. Discretas:\n",
    "        Medidas de tendencia central: media, mediana, moda.\n",
    "        Medidas de dispersión: desviación estándar, varianza, rango.\n",
    "        Distribuciones: Distribución binomial, distribución de Poisson, entre otras.\n",
    "        Correlaciones: Las mismas que para variables continuas, aunque en ciertos contextos se pueden considerar de manera diferente.\n",
    "\n",
    "    Categóricas\n",
    "\n",
    "    2.1. Nominales:\n",
    "        Frecuencias: Conteos y porcentajes.\n",
    "        Asociación: Chi-cuadrado de independencia, coeficiente de contingencia, Cramér V.\n",
    "        Comparaciones: Proporciones, razones.\n",
    "        Modelado: Regresión logística multinomial, análisis discriminante, entre otros.\n",
    "\n",
    "    2.2. Ordinales:\n",
    "        Medidas de tendencia central: mediana, moda.\n",
    "        Medidas de dispersión: rango, rango intercuartílico.\n",
    "        Correlaciones: coeficiente de correlación de Spearman, coeficiente de correlación de Kendall.\n",
    "        Asociación: Test de tendencia para datos ordinales.\n",
    "        Modelado: Regresión logística ordinal, entre otros."
   ]
  },
  {
   "cell_type": "code",
   "execution_count": 22,
   "metadata": {},
   "outputs": [],
   "source": [
    "import numpy as np\n",
    "import matplotlib.pyplot as plt\n",
    "import matplotlib.animation as animation\n",
    "from IPython.display import HTML\n",
    "\n",
    "# Set up the figure, the axis, and the plot elements\n",
    "# fig, axs = plt.subplots(3, 1, figsize=(7, 8))\n",
    "# fig.tight_layout(pad=3.0)\n",
    "N = 10000  # size of the population\n",
    "n = 10  # sample size\n",
    "K = 1000  # number of times to sample\n",
    "\n",
    "# # Create the source distribution: Here I'm using a normal distribution for simplicity\n",
    "# mu = 10  # mean\n",
    "# sigma = 1  # standard deviation\n",
    "# source_data = np.random.normal(mu, sigma, N)\n",
    "\n",
    "# sample_means = []\n",
    "\n",
    "# def update(num):\n",
    "#     # Clear the previous histograms\n",
    "#     for ax in axs:\n",
    "#         ax.cla()\n",
    "    \n",
    "#     x_min = min(source_data) - 1\n",
    "#     x_max = max(source_data) + 1\n",
    "#     # First panel: the population histogram\n",
    "#     axs[0].hist(source_data, bins=50, color='blue', alpha=0.7)\n",
    "#     axs[0].set_title(\"Source Distribution\")\n",
    "#     axs[0].set_xlim(x_min, x_max)\n",
    "#     axs[0].text(x_max - 0.1 * (x_max - x_min), 0.8 * N/50, \n",
    "#                 'Mean: {:.2f}\\nStd: {:.2f}'.format(np.mean(source_data), np.std(source_data)), \n",
    "#                 va=\"top\", ha=\"right\")\n",
    "\n",
    "\n",
    "#     # Second panel: sample histogram\n",
    "#     sample = np.random.choice(source_data, n)\n",
    "#     axs[1].hist(sample, bins=50, color='green', alpha=0.7)\n",
    "#     axs[1].set_title(\"Sample of Size {}\".format(n))\n",
    "#     axs[1].set_xlim(x_min, x_max)\n",
    "#     axs[1].set_ylim(0, 15)\n",
    "#     axs[1].text(x_max - 0.1 * (x_max - x_min), 15 * 0.2666, \n",
    "#                 'Mean: {:.2f}\\nStd: {:.2f}'.format(np.mean(sample), np.std(sample)), \n",
    "#                 va=\"top\", ha=\"right\")\n",
    "    \n",
    "#     # Third panel: sample mean histogram\n",
    "#     # Add the mean of the current sample to sample_means\n",
    "#     sample_means.append(np.mean(sample))\n",
    "    \n",
    "#     axs[2].hist(sample_means, bins=50, color='red', alpha=0.7)\n",
    "#     axs[2].set_title(\"Distribution of Sample Means (n={})\".format(n))\n",
    "#     axs[2].set_xlim(x_min, x_max)\n",
    "#     axs[2].set_ylim(0, 30)\n",
    "#     axs[2].text(x_max - 0.1 * (x_max - x_min), 30 * 0.2666, \n",
    "#                 'Mean: {:.2f}\\nStd: {:.2f}'.format(np.mean(sample_means), np.std(sample_means)), \n",
    "#                 va=\"top\", ha=\"right\")\n",
    "\n",
    "#     plt.draw()\n",
    "\n",
    "# ani = animation.FuncAnimation(fig, update, frames=K, repeat=False)\n",
    "# # Display the animation in the Jupyter Notebook\n",
    "# HTML(ani.to_jshtml())"
   ]
  },
  {
   "attachments": {},
   "cell_type": "markdown",
   "metadata": {},
   "source": [
    "En la simulación anterior, en el segundo panel, la media va cambiando cuando se cambia la muestra. A cada una de esas medias les llamamos \"media muestral\". Dado que esa media se toma sobre una muestra, su valor no necesariamente coincide con el valor de la media poblacional. A la diferencia de la media muestral y la media poblacional le llamamos \"error muestral\". El error muestral es una variable aleatoria, porque depende de la muestra que se tome, por lo que su valor cambia aleatoriamente conforme cambia la muestra. \n",
    "\n",
    "En el tercer panel se muestra la media de todas las medias muestrales. Al conjunto de medias muestrales le llamamos \"distribución muestral de medias\". La media de la distribución muestral de medias es igual a la media poblacional. Este es un resultado muy importante, porque nos dice que si tomamos muchas muestras de una población, y calculamos la media de cada una de esas muestras, la media de todas esas medias muestrales es igual a la media poblacional. \n",
    "\n",
    "La desviación estándar de una distribución muestral de medias es conocida como \"error estándar de la media\". El error estándar de la media es una medida de la variabilidad de las medias muestrales. Si el error estándar de la media es pequeño, significa que las medias muestrales son similares entre sí, y por lo tanto, similares a la media poblacional. Si el error estándar de la media es grande, significa que las medias muestrales son muy diferentes entre sí, y por lo tanto, muy diferentes a la media poblacional.\n",
    "\n",
    "Ahora, normalmente para hacer estadística no tomamos muchas muestras y obtenemos la media de cada una de ellas. En lugar de eso, tomamos una sola muestra y calculamos la media de esa muestra. La media de esa muestra es una estimación de la media poblacional. ¿Por qué puedo usar la media muestral como estimador de la media poblacional? Básicamente por dos resultados importantísimos de la estadística:\n",
    "\n",
    "1. La ley de los grandes números: a medida que el tamaño de la muestra aumenta, la media muestral se aproxima a la media poblacional.\n",
    "2. El teorema del límite central: al tomar muchas muestras de una población, la distribución muestral de medias se aproxima a una distribución normal, sin importar la distribución de la población. La media de la distribución muestral de medias es igual a la media poblacional, y la desviación estándar de la distribución muestral de medias es igual al error estándar de la media.\n",
    "\n",
    "Esto nos lleva a dos propiedades de la media muestral:\n",
    "\n",
    "1. **Es un estimador insesgado de la media poblacional**. Esto significa que, en promedio, la media muestral es igual a la media poblacional. Dicho de otra manera, el valor esperado de la media muestral es igual a la media poblacional.\n",
    "2. **Es un estimador eficiente de la media poblacional**. Esto significa que la varianza de la media muestral es menor que la varianza de cualquier otro estimador de la media poblacional. Dicho de otra manera, la media muestral es el estimador de la media poblacional que tiene la menor varianza.\n",
    "3. **Es un estimador consistente de la media poblacional**. Esto significa que, a medida que el tamaño de la muestra aumenta, la media muestral se aproxima a la media poblacional. Dicho de otra manera, la media muestral es un estimador de la media poblacional que converge en probabilidad a la media poblacional. Matemáticamente, para un estimador $\\hat\\theta$ de un parámetro $\\theta$, esto se escribe como:\n",
    "\n",
    "$$\\lim_{n\\to\\infty} P(|\\hat\\theta - \\theta| > \\epsilon) = 0$$\n",
    "\n",
    "para cualquier $\\epsilon > 0$.\n",
    "\n",
    ">**Error estándar de la media para una muestra**\n",
    ">\n",
    ">Dado que el error estándar de la media (en inglés $SEM$) se obtiene dividiendo la desviación estándar de la población entre la raíz cuadrada del tamaño de la muestra, al no tener acceso a la desviación estándar de la población, podemos usar la desviación estándar de la muestra como una estimación de la desviación estándar de la población. >Esto nos lleva a la siguiente fórmula para el error estándar de la media:\n",
    ">\n",
    ">$$SEM = \\frac{s}{\\sqrt{n}}$$\n",
    ">\n",
    ">donde $s$ es la desviación estándar de la muestra y $n$ es el tamaño de la muestra. Este error disminuye conforme aumenta el tamaño de la muestra, como se ve a continuación:"
   ]
  },
  {
   "cell_type": "code",
   "execution_count": 23,
   "metadata": {},
   "outputs": [
    {
     "data": {
      "image/png": "[encoded data removed]",
      "text/plain": [
       "<Figure size 1000x600 with 1 Axes>"
      ]
     },
     "metadata": {},
     "output_type": "display_data"
    }
   ],
   "source": [
    "N = 10000\n",
    "mu = 10\n",
    "sigma = 1\n",
    "source_data = np.random.normal(mu, sigma, N)\n",
    "\n",
    "# vector of sample sizes\n",
    "\n",
    "n_vec = np.arange(1, 10000, 10)\n",
    "\n",
    "# vector of sample means\n",
    "\n",
    "sample_means = []\n",
    "\n",
    "# simulate the sampling distribution of the sample mean for each sample size\n",
    "\n",
    "for n in n_vec:\n",
    "    sample = np.random.choice(source_data, n)\n",
    "    sample_means.append(np.mean(sample))\n",
    "\n",
    "# plot the sampling distribution of the sample mean for each sample size\n",
    "\n",
    "plt.figure(figsize=(10, 6))\n",
    "plt.plot(n_vec, sample_means, 'k-')\n",
    "# real population mean\n",
    "plt.plot(n_vec, [mu] * len(n_vec), 'r--')\n",
    "# log transform the x-axis\n",
    "# plt.xscale('log')\n",
    "plt.ylim(9.5, 10.5)\n",
    "plt.xlabel('Sample Size')\n",
    "plt.ylabel('Sample Mean')\n",
    "plt.title('Sampling Distribution of the Sample Mean')\n",
    "plt.show()"
   ]
  },
  {
   "attachments": {},
   "cell_type": "markdown",
   "metadata": {},
   "source": [
    "### De locación\n",
    "\n",
    "Encontrar valores típicos o centrales que describan bien los datos.\n",
    "\n",
    "- Media: $\\bar Y = \\sum_{i=1}^N Y_i/N$\n",
    "- Mediana: $\\tilde{Y} = Y_{[N+1]/2}$ si $N$ es impar; $\\tilde{Y} = (Y_{[N]/2} + Y_{[N/2 + 1]})/2$ si $N$ es par.\n",
    "- Moda: el valor más frecuente en los datos. No siempre existe, y puede haber más de una moda.\n"
   ]
  },
  {
   "attachments": {},
   "cell_type": "markdown",
   "metadata": {},
   "source": [
    "### De dispersión\n",
    "\n",
    "- Rango intercuartílico, IQR: $Q_3 - Q_1$.\n",
    "- Varianza: $s^2=\\frac{1}{n-1}\\sum_{i=1}^n (y_i - \\bar y)^2$\n",
    "- Desviación estándar: $s = \\sqrt{s}$,\n",
    "- Desviación media absoluta: $\\text{MAD} = \\frac{1}{n-1}\\sum_{i=1}^n \\mid y_i - \\bar y\\mid$\n",
    "- Rango: $\\max(y) - \\min(y)$\n"
   ]
  },
  {
   "attachments": {},
   "cell_type": "markdown",
   "metadata": {},
   "source": [
    "**Conceptos adicionales**\n",
    "\n",
    "1. Centrar una variable: restarle a cada observación el valor de la media de la variable. Esto se hace para que la media de la variable centrada sea igual a cero. Si $Y$ es una variable aleatoria, entonces $Y_c = Y - \\bar Y$ es la variable aleatoria centrada.\n",
    "2. Estandarizar una variable: dividir cada observación entre la desviación estándar de la variable. Esto se hace para que la desviación estándar de la variable estandarizada sea igual a uno. Si $Y$ es una variable aleatoria, entonces $Y_s = Y/s$ es la variable aleatoria estandarizada.\n",
    "3. Normalizar una variable: restarle a cada observación el valor de la media de la variable y dividir el resultado entre la desviación estándar de la variable. Esto se hace para que la media de la variable normalizada sea igual a cero y la desviación estándar de la variable normalizada sea igual a uno. Si $Y$ es una variable aleatoria, entonces $Y_z = (Y - \\bar Y)/s$ es la variable aleatoria estandarizada.\n",
    "4. Función cuantil: función que asigna a cada probabilidad $p$ un valor $q$ tal que $P(Y \\leq q) = p$. Se puede pensar como la inversa de la función de distribución acumulada."
   ]
  },
  {
   "attachments": {},
   "cell_type": "markdown",
   "metadata": {},
   "source": [
    "En las siguientes celdas vamos a calcular estos estadísticos en Python. Para instalar Python, recomiendo la distribución Anaconda, que incluye Jupyter Notebook, Python y muchas librerías de análisis de datos.\n",
    "\n",
    "1. Para instalar Anaconda, sigan las instrucciones [aquí](https://github.com/jealcalat/python4da/blob/main/intro.md).\n",
    "2. Para empezar a usar Jupyter Notebook, sigan las instrucciones [aquí](https://www.youtube.com/watch?v=Xws9V34-CFo&ab_channel=PabloPaniagua), y para una introducción muy básica a lo que necesitaremos de Python, consulta [aquí](https://github.com/jealcalat/python4da/blob/main/nbs/pt1_intro_python.ipynb).\n",
    "3. El uso de las librerías NumPy, Pandas y Matplotlib se explica [aquí](https://github.com/jealcalat/python4da/blob/main/nbs/pt2_numpy-pandas-matplotlib.ipynb).\n"
   ]
  },
  {
   "cell_type": "code",
   "execution_count": 24,
   "metadata": {},
   "outputs": [],
   "source": [
    "import pandas as pd\n",
    "import seaborn as sns\n",
    "from collections import Counter\n",
    "\n",
    "# media\n",
    "def mean_fun(x):\n",
    "    return sum(x) / len(x)\n",
    "\n",
    "# mediana\n",
    "def median_fun(x):\n",
    "    x.sort()\n",
    "    N = len(x)\n",
    "    if N % 2 == 0:\n",
    "        return (x[int(N / 2)] + x[int((N - 1) / 2)]) / 2\n",
    "    else:\n",
    "        return x[int((N - 1) / 2)]\n",
    "\n",
    "# moda\n",
    "def mode_fun(x):\n",
    "    n = len(x)\n",
    "    data = Counter(x)\n",
    "    get_mode = dict(data)\n",
    "    mode = [k for k, v in get_mode.items() if v == max(list(data.values()))]\n",
    "    return mode[0]\n",
    "\n",
    "# varianza\n",
    "def var_fun(x):\n",
    "    n = len(x)\n",
    "    mean_x = sum(x) / n\n",
    "    return sum([(i - mean_x) ** 2 for i in x]) / (n - 1)\n",
    "\n",
    "# desviación estándar\n",
    "\n",
    "def std_fun(x):\n",
    "    var_x = var_fun(x)\n",
    "    return var_x ** 0.5\n",
    "\n",
    "# desviación absoluta media\n",
    "def mad_fun(x):\n",
    "    n = len(x)\n",
    "    mean_x = sum(x) / n\n",
    "    ab_dev = [abs(i - mean_x) for i in x]\n",
    "    return (1/n) * sum(ab_dev)\n",
    "\n",
    "# rango\n",
    "\n",
    "def range_fun(x):\n",
    "    x.sort() # ordena la lista de menor a mayor\n",
    "    return x[-1] - x[0]\n",
    "\n",
    "# center a variable\n",
    "\n",
    "def center_fun(x):\n",
    "    mean_x = sum(x) / len(x)\n",
    "    return [i - mean_x for i in x]\n",
    "\n",
    "# standardize a variable\n",
    "\n",
    "def standardize_fun(x):\n",
    "    std_x = std_fun(x)\n",
    "    return [i / std_x for i in x]\n",
    "\n",
    "# normalizar una variable\n",
    "\n",
    "def normalize_fun(x):\n",
    "    x_c = center_fun(x)\n",
    "    std_x = std_fun(x)\n",
    "    return [i / std_x for i in x_c]"
   ]
  },
  {
   "attachments": {},
   "cell_type": "markdown",
   "metadata": {},
   "source": [
    "Ejercicio:\n",
    "\n",
    "$x=(9, 10, 11, 11, 12, 14, 16, 17, 41, 61)$\n",
    "\n",
    "Obtener:\n",
    "media, mediana, Q1, Q3, IQR, MAD y desviación estándar.\n"
   ]
  },
  {
   "cell_type": "code",
   "execution_count": 25,
   "metadata": {},
   "outputs": [
    {
     "name": "stdout",
     "output_type": "stream",
     "text": [
      "Media:  20.2\n",
      "Mediana:  13.0\n",
      "Moda:  11\n",
      "Varianza:  292.17777777777775\n",
      "Desviación estándar:  17.093208527885505\n",
      "Desviación absoluta media:  12.32\n",
      "Rango:  52\n",
      "Centrar:  [-11.2, -10.2, -9.2, -9.2, -8.2, -6.199999999999999, -4.199999999999999, -3.1999999999999993, 20.8, 40.8]\n",
      "Estandarizar:  [0.5265249052170391, 0.5850276724633768, 0.6435304397097145, 0.6435304397097145, 0.7020332069560521, 0.8190387414487275, 0.9360442759414028, 0.9945470431877406, 2.3986134570998447, 3.568668802026598]\n",
      "Normalizar:  [-0.6552309931589819, -0.5967282259126443, -0.5382254586663066, -0.5382254586663066, -0.4797226914199689, -0.36271715692729356, -0.24571162243461822, -0.18720885518828054, 1.2168575587238237, 2.386912903650577]\n"
     ]
    }
   ],
   "source": [
    "x = [9, 10, 11, 11, 12, 14, 16, 17, 41, 61]\n",
    "\n",
    "print(\"Media: \", mean_fun(x))\n",
    "print(\"Mediana: \", median_fun(x))\n",
    "print(\"Moda: \", mode_fun(x))\n",
    "print(\"Varianza: \", var_fun(x))\n",
    "print(\"Desviación estándar: \", std_fun(x))\n",
    "print(\"Desviación absoluta media: \", mad_fun(x))\n",
    "print(\"Rango: \", range_fun(x))\n",
    "print(\"Centrar: \", center_fun(x))\n",
    "print(\"Estandarizar: \", standardize_fun(x))\n",
    "print(\"Normalizar: \", normalize_fun(x))"
   ]
  },
  {
   "cell_type": "code",
   "execution_count": 26,
   "metadata": {},
   "outputs": [
    {
     "name": "stdout",
     "output_type": "stream",
     "text": [
      "Mean:  20.2\n",
      "Median:  13.0\n",
      "Mode:  11\n",
      "Variance:  292.17777777777775\n",
      "Standard Deviation:  17.093208527885505\n",
      "Mean Absolute Deviation:  12.319999999999999\n",
      "Range:  52\n",
      "Centered:  [-11.2 -10.2  -9.2  -9.2  -8.2  -6.2  -4.2  -3.2  20.8  40.8]\n",
      "Standardized:  [0.52652491 0.58502767 0.64353044 0.64353044 0.70203321 0.81903874\n",
      " 0.93604428 0.99454704 2.39861346 3.5686688 ]\n",
      "Normalized:  [-0.65523099 -0.59672823 -0.53822546 -0.53822546 -0.47972269 -0.36271716\n",
      " -0.24571162 -0.18720886  1.21685756  2.3869129 ]\n"
     ]
    },
    {
     "name": "stderr",
     "output_type": "stream",
     "text": [
      "/tmp/ipykernel_348042/69151620.py:9: FutureWarning: Unlike other reduction functions (e.g. `skew`, `kurtosis`), the default behavior of `mode` typically preserves the axis it acts along. In SciPy 1.11.0, this behavior will change: the default value of `keepdims` will become False, the `axis` over which the statistic is taken will be eliminated, and the value None will no longer be accepted. Set `keepdims` to True or False to avoid this warning.\n",
      "  print(\"Mode: \", stats.mode(x).mode[0])\n"
     ]
    }
   ],
   "source": [
    "import numpy as np\n",
    "from scipy import stats\n",
    "\n",
    "x = [9, 10, 11, 11, 12, 14, 16, 17, 41, 61]\n",
    "\n",
    "\n",
    "print(\"Mean: \", np.mean(x))\n",
    "print(\"Median: \", np.median(x))\n",
    "print(\"Mode: \", stats.mode(x).mode[0])\n",
    "print(\"Variance: \", np.var(x, ddof=1))\n",
    "print(\"Standard Deviation: \", np.std(x, ddof=1))\n",
    "print(\"Mean Absolute Deviation: \", np.mean(np.abs(x - np.mean(x))))\n",
    "print(\"Range: \", np.ptp(x))\n",
    "\n",
    "centered_x = x - np.mean(x)\n",
    "\n",
    "print(\"Centered: \", centered_x)\n",
    "\n",
    "standardized_x = x / np.std(x, ddof=1)\n",
    "\n",
    "print(\"Standardized: \", standardized_x)\n",
    "normalized_x = (x - np.mean(x)) / np.std(x, ddof=1)\n",
    "print(\"Normalized: \", normalized_x)\n",
    "\n"
   ]
  },
  {
   "cell_type": "code",
   "execution_count": 27,
   "metadata": {},
   "outputs": [
    {
     "data": {
      "image/png": "[encoded data removed]",
      "text/plain": [
       "<Figure size 640x480 with 1 Axes>"
      ]
     },
     "metadata": {},
     "output_type": "display_data"
    }
   ],
   "source": [
    "plt.hist(x, bins=10)\n",
    "plt.show()"
   ]
  },
  {
   "cell_type": "code",
   "execution_count": 28,
   "metadata": {},
   "outputs": [
    {
     "data": {
      "text/plain": [
       "(array([6., 2., 0., 0., 0., 0., 1., 0., 0., 1.]),\n",
       " array([-0.65523099, -0.3510166 , -0.04680221,  0.25741218,  0.56162657,\n",
       "         0.86584096,  1.17005534,  1.47426973,  1.77848412,  2.08269851,\n",
       "         2.3869129 ]),\n",
       " <BarContainer object of 10 artists>)"
      ]
     },
     "execution_count": 28,
     "metadata": {},
     "output_type": "execute_result"
    },
    {
     "data": {
      "image/png": "[encoded data removed]",
      "text/plain": [
       "<Figure size 640x480 with 1 Axes>"
      ]
     },
     "metadata": {},
     "output_type": "display_data"
    }
   ],
   "source": [
    "plt.hist(normalize_fun(x), bins=10)"
   ]
  },
  {
   "cell_type": "code",
   "execution_count": 29,
   "metadata": {},
   "outputs": [
    {
     "data": {
      "text/plain": [
       "<Axes: >"
      ]
     },
     "execution_count": 29,
     "metadata": {},
     "output_type": "execute_result"
    },
    {
     "data": {
      "image/png": "[encoded data removed]",
      "text/plain": [
       "<Figure size 640x480 with 1 Axes>"
      ]
     },
     "metadata": {},
     "output_type": "display_data"
    }
   ],
   "source": [
    "sns.boxplot(x)"
   ]
  },
  {
   "cell_type": "code",
   "execution_count": 30,
   "metadata": {},
   "outputs": [
    {
     "data": {
      "text/plain": [
       "<Axes: ylabel='Count'>"
      ]
     },
     "execution_count": 30,
     "metadata": {},
     "output_type": "execute_result"
    },
    {
     "data": {
      "image/png": "[encoded data removed]",
      "text/plain": [
       "<Figure size 640x480 with 1 Axes>"
      ]
     },
     "metadata": {},
     "output_type": "display_data"
    }
   ],
   "source": [
    "sns.histplot(x, bins=10, kde=True)"
   ]
  },
  {
   "attachments": {},
   "cell_type": "markdown",
   "metadata": {},
   "source": [
    "Ejercicio:\n",
    "\n",
    "Descargar el conjunto de datos de Iris y calcular los estadísticos descriptivos de las variables numéricas.\n"
   ]
  },
  {
   "cell_type": "code",
   "execution_count": 31,
   "metadata": {},
   "outputs": [
    {
     "name": "stdout",
     "output_type": "stream",
     "text": [
      "Media: 5.843333333333335\n",
      "Mediana: 5.8\n",
      "Moda: 5.0\n",
      "Desviación media absoluta: 0.6875555555555557\n"
     ]
    }
   ],
   "source": [
    "\n",
    "# Cargamos el conjunto de datos\n",
    "iris = sns.load_dataset('iris')\n",
    "\n",
    "# Seleccionamos una columna para hacer los cálculos\n",
    "column = iris['sepal_length'].tolist()\n",
    "\n",
    "print(\"Media:\", mean_fun(column))\n",
    "print(\"Mediana:\", median_fun(column))\n",
    "print(\"Moda:\", mode_fun(column))\n",
    "print(\"Desviación media absoluta:\", mad_fun(column))"
   ]
  },
  {
   "attachments": {},
   "cell_type": "markdown",
   "metadata": {},
   "source": [
    "Lo mismo se puede hacer con la función `describe()` de Pandas, que lo hace todo de una vez.\n"
   ]
  },
  {
   "cell_type": "code",
   "execution_count": 32,
   "metadata": {},
   "outputs": [
    {
     "data": {
      "text/html": [
       "<div>\n",
       "<style scoped>\n",
       "    .dataframe tbody tr th:only-of-type {\n",
       "        vertical-align: middle;\n",
       "    }\n",
       "\n",
       "    .dataframe tbody tr th {\n",
       "        vertical-align: top;\n",
       "    }\n",
       "\n",
       "    .dataframe thead th {\n",
       "        text-align: right;\n",
       "    }\n",
       "</style>\n",
       "<table border=\"1\" class=\"dataframe\">\n",
       "  <thead>\n",
       "    <tr style=\"text-align: right;\">\n",
       "      <th></th>\n",
       "      <th>sepal_length</th>\n",
       "      <th>sepal_width</th>\n",
       "      <th>petal_length</th>\n",
       "      <th>petal_width</th>\n",
       "    </tr>\n",
       "  </thead>\n",
       "  <tbody>\n",
       "    <tr>\n",
       "      <th>count</th>\n",
       "      <td>150.000000</td>\n",
       "      <td>150.000000</td>\n",
       "      <td>150.000000</td>\n",
       "      <td>150.000000</td>\n",
       "    </tr>\n",
       "    <tr>\n",
       "      <th>mean</th>\n",
       "      <td>5.843333</td>\n",
       "      <td>3.057333</td>\n",
       "      <td>3.758000</td>\n",
       "      <td>1.199333</td>\n",
       "    </tr>\n",
       "    <tr>\n",
       "      <th>std</th>\n",
       "      <td>0.828066</td>\n",
       "      <td>0.435866</td>\n",
       "      <td>1.765298</td>\n",
       "      <td>0.762238</td>\n",
       "    </tr>\n",
       "    <tr>\n",
       "      <th>min</th>\n",
       "      <td>4.300000</td>\n",
       "      <td>2.000000</td>\n",
       "      <td>1.000000</td>\n",
       "      <td>0.100000</td>\n",
       "    </tr>\n",
       "    <tr>\n",
       "      <th>25%</th>\n",
       "      <td>5.100000</td>\n",
       "      <td>2.800000</td>\n",
       "      <td>1.600000</td>\n",
       "      <td>0.300000</td>\n",
       "    </tr>\n",
       "    <tr>\n",
       "      <th>50%</th>\n",
       "      <td>5.800000</td>\n",
       "      <td>3.000000</td>\n",
       "      <td>4.350000</td>\n",
       "      <td>1.300000</td>\n",
       "    </tr>\n",
       "    <tr>\n",
       "      <th>75%</th>\n",
       "      <td>6.400000</td>\n",
       "      <td>3.300000</td>\n",
       "      <td>5.100000</td>\n",
       "      <td>1.800000</td>\n",
       "    </tr>\n",
       "    <tr>\n",
       "      <th>max</th>\n",
       "      <td>7.900000</td>\n",
       "      <td>4.400000</td>\n",
       "      <td>6.900000</td>\n",
       "      <td>2.500000</td>\n",
       "    </tr>\n",
       "  </tbody>\n",
       "</table>\n",
       "</div>"
      ],
      "text/plain": [
       "       sepal_length  sepal_width  petal_length  petal_width\n",
       "count    150.000000   150.000000    150.000000   150.000000\n",
       "mean       5.843333     3.057333      3.758000     1.199333\n",
       "std        0.828066     0.435866      1.765298     0.762238\n",
       "min        4.300000     2.000000      1.000000     0.100000\n",
       "25%        5.100000     2.800000      1.600000     0.300000\n",
       "50%        5.800000     3.000000      4.350000     1.300000\n",
       "75%        6.400000     3.300000      5.100000     1.800000\n",
       "max        7.900000     4.400000      6.900000     2.500000"
      ]
     },
     "execution_count": 32,
     "metadata": {},
     "output_type": "execute_result"
    }
   ],
   "source": [
    "import pandas as pd\n",
    "\n",
    "iris.describe()"
   ]
  },
  {
   "cell_type": "code",
   "execution_count": 33,
   "metadata": {},
   "outputs": [
    {
     "data": {
      "text/plain": [
       "<Axes: ylabel='Count'>"
      ]
     },
     "execution_count": 33,
     "metadata": {},
     "output_type": "execute_result"
    },
    {
     "data": {
      "image/png": "[encoded data removed]",
      "text/plain": [
       "<Figure size 640x480 with 1 Axes>"
      ]
     },
     "metadata": {},
     "output_type": "display_data"
    }
   ],
   "source": [
    "sns.histplot(column, kde=True)"
   ]
  },
  {
   "attachments": {},
   "cell_type": "markdown",
   "metadata": {},
   "source": [
    "Tarea 1: ver [acá](../tareas/tarea_1.md)\n"
   ]
  }
 ],
 "metadata": {
  "kernelspec": {
   "display_name": "base",
   "language": "python",
   "name": "python3"
  },
  "language_info": {
   "codemirror_mode": {
    "name": "ipython",
    "version": 3
   },
   "file_extension": ".py",
   "mimetype": "text/x-python",
   "name": "python",
   "nbconvert_exporter": "python",
   "pygments_lexer": "ipython3",
   "version": "3.9.13"
  },
  "orig_nbformat": 4
 },
 "nbformat": 4,
 "nbformat_minor": 2
}
