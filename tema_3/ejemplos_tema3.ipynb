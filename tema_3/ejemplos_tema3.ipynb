{
 "cells": [
  {
   "cell_type": "code",
   "execution_count": 7,
   "id": "d9261120",
   "metadata": {},
   "outputs": [
    {
     "data": {
      "text/plain": [
       "array([0.89999999])"
      ]
     },
     "execution_count": 7,
     "metadata": {},
     "output_type": "execute_result"
    }
   ],
   "source": [
    "import math as m\n",
    "from scipy.optimize import minimize\n",
    "from scipy.optimize import Bounds\n",
    "import numpy as np\n",
    "\n",
    "# fn de masa de la binomial\n",
    "\n",
    "def log_ver_binom(theta, n, k):\n",
    "    ll = k * np.log(theta) + (n-k) * np.log(1-theta)\n",
    "    # multiplicar por -1 para convertir problema de max en problema de min\n",
    "    return -ll \n",
    "\n",
    "n = 10\n",
    "k = 9\n",
    "\n",
    "theta_inicial = 0.3\n",
    "\n",
    "limites_theta = [(0+0.0000001, 1-0.0000001)]\n",
    "\n",
    "res = minimize(log_ver_binom, theta_inicial, args=(n, k), method=\"L-BFGS-B\", bounds=limites_theta)\n",
    "res.x"
   ]
  },
  {
   "cell_type": "code",
   "execution_count": null,
   "id": "30d1b359",
   "metadata": {},
   "outputs": [],
   "source": []
  }
 ],
 "metadata": {
  "kernelspec": {
   "display_name": "Python 3 (ipykernel)",
   "language": "python",
   "name": "python3"
  },
  "language_info": {
   "codemirror_mode": {
    "name": "ipython",
    "version": 3
   },
   "file_extension": ".py",
   "mimetype": "text/x-python",
   "name": "python",
   "nbconvert_exporter": "python",
   "pygments_lexer": "ipython3",
   "version": "3.11.5"
  }
 },
 "nbformat": 4,
 "nbformat_minor": 5
}
