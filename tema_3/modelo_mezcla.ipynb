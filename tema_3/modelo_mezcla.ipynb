{
 "cells": [
  {
   "cell_type": "markdown",
   "id": "4191ea5d",
   "metadata": {},
   "source": [
    "$$\n",
    "    l(\\theta)=k*\\ln(\\theta) + (n-k)*\\ln(1-\\theta)\n",
    "$$\n",
    "\n",
    "MLE de binomial\n",
    "\n",
    "$$\n",
    "   \\theta^* = \\frac{1}{n}\\sum_{i=1}^n x_i\n",
    "$$\n",
    "\n",
    "Esperanza\n",
    "\n",
    "$$\n",
    " \\mathbf{E}[X] = \\frac{1}{n}\\sum_{i=1}^n x_i\n",
    "$$"
   ]
  },
  {
   "cell_type": "code",
   "execution_count": 6,
   "id": "772dcca8",
   "metadata": {},
   "outputs": [
    {
     "data": {
      "text/plain": [
       "array([0.89999999])"
      ]
     },
     "execution_count": 6,
     "metadata": {},
     "output_type": "execute_result"
    }
   ],
   "source": [
    "import numpy as np\n",
    "import matplotlib.pyplot as plt\n",
    "from scipy.optimize import minimize\n",
    "from scipy.stats import norm\n",
    "\n",
    "# k es la suma de los éxitos\n",
    "# n el total de ensayos\n",
    "# de esta manera, tratamos a la binomial como n ensayos de bernoulli\n",
    "\n",
    "def ll_binom(theta, n, k):\n",
    "    ll = k * np.log(theta) + (n - k) * np.log(1 - theta)\n",
    "    return -ll\n",
    "\n",
    "# inicializar parámetros\n",
    "n = 10\n",
    "k = 9\n",
    "\n",
    "# definir teta inicial\n",
    "\n",
    "theta_init = 0.2\n",
    "\n",
    "# obtener el MLE numérico minimizando la función ll_binom\n",
    "\n",
    "res = minimize(ll_binom, theta_init, args=(n, k), method=\"L-BFGS-B\", bounds=[(0.00001, 0.99999)])\n",
    "res.x"
   ]
  },
  {
   "cell_type": "code",
   "execution_count": 4,
   "id": "a5cdf862",
   "metadata": {},
   "outputs": [
    {
     "data": {
      "text/plain": [
       "0.9"
      ]
     },
     "execution_count": 4,
     "metadata": {},
     "output_type": "execute_result"
    }
   ],
   "source": [
    "k/n"
   ]
  },
  {
   "cell_type": "markdown",
   "id": "f0632329",
   "metadata": {},
   "source": [
    "**Ejemplo de un modelo de mezclas gaussianas**\n",
    "\n",
    "Un modelo de mezcla gaussiana es un modelo probabilístico que supone que todos los puntos de datos se generan a partir de una mezcla de un número finito de pdfs gaussianas con parámetros desconocidos. El modelo se define matemáticamente de la siguiente manera:\n",
    "\n",
    "$$ p(x; \\mu_k, \\Sigma_k, \\pi_k) = \\sum_{k=1}^{K} \\pi_k \\mathcal{N}(x|\\mu_k, \\Sigma_k) $$\n",
    "\n",
    "donde $x$ es un punto de datos, $\\pi_k$ es el coeficiente de mezcla para la $k$-ésima componente gaussiana (en otras palabras, es la proporción del total de una mezcla que pertenece al $k$ componente), y debe sumar 1 (es decir, $\\sum_{k=1}^n \\pi_k = 1$); $\\mu_k$ es la media de la $k$-ésima componente gaussiana, $\\Sigma_k$ es la matriz de covarianza del $k$-ésimo componente gaussiano, y $\\mathcal{N}(x|\\mu_k, \\Sigma_k)$ es la función de densidad de probabilidad de la distribución gaussiana multivariada con media $\\mu_k$ y matriz de covarianza $\\Sigma_k$. Si cada una de las $k$ componentes es univariada, el modelo se reduce a\n",
    "\n",
    "$$ p(x;\\mu_k, \\sigma^2_k, \\pi_k) = \\pi_1 \\mathcal{N}(x|\\mu_1, \\sigma_1^2) + \\pi_2 \\mathcal{N}(x|\\mu_2, \\sigma_2^2),\\quad \\text{con k=\\{1, 2\\}} $$\n",
    "\n",
    "donde $x$ es un punto de datos, $\\pi_1$ y $\\pi_2$ son los coeficientes de mezcla de los dos componentes gaussianos, $\\mu_1$ y $\\mu_2$ son las medias de los dos componentes gaussianos y $\\sigma_1 ^2$ y $\\sigma_2^2$ son las varianzas de los dos componentes gaussianos.\n",
    "\n",
    "Los parámetros $\\mu_k, \\sigma^2_k, \\pi_k$ de un modelo de mezcla gaussiana se pueden estimar utilizando la estimación de máxima verosimilitud (MLE). La función de verosimilitud para un modelo de mezcla gaussiana está dada por:\n",
    "\n",
    "$$ L(\\theta) = \\prod_{i=1}^{N} p(x_i|\\theta) = \\prod_{i=1}^{N} \\sum_{k=1}^{K} \\pi_k \\mathcal{N}(x_i|\\mu_k, \\Sigma_k) $$\n",
    "\n",
    "donde $\\theta=(\\mu_k, \\sigma^2_k, \\pi_k)$ representa los parámetros del modelo, $x_i$ es el $i$-ésimo punto de datos y $N$ es el número total de puntos de datos. El enfoque MLE implica encontrar los valores de $\\theta$ que maximizan la función de probabilidad $L(\\theta)$."
   ]
  },
  {
   "cell_type": "markdown",
   "id": "9b2b9ae4",
   "metadata": {},
   "source": [
    "$$\n",
    " p(x; \\mu_1, \\mu_2, \\sigma_1, \\sigma_2, \\pi) = \\pi * N(\\mu_1, \\sigma_1) + (1-\\pi) * N(\\mu_2, \\sigma_2)\n",
    "$$\n",
    "\n"
   ]
  },
  {
   "cell_type": "markdown",
   "id": "707a6579",
   "metadata": {},
   "source": [
    "Problema de optimización\n",
    "\n",
    "$$\n",
    "\\theta^* = \\arg\\max L(\\theta);\\quad \\theta = \\{\\pi,\\mu_k,\\sigma_k \\}\n",
    "$$\n",
    "\n",
    "sujeto a:\n",
    "\n",
    "$$\n",
    "\\pi \\in [0, 1],\\mu_k \\in (-\\infty, \\infty), \\sigma_k > 0\n",
    "$$"
   ]
  },
  {
   "cell_type": "markdown",
   "id": "35f19b18",
   "metadata": {},
   "source": [
    "Proceso:\n",
    "\n",
    "1. Simular datos con valores de parámetros conocidos.\n",
    "2. Visualizar los datos simulados.\n",
    "3. Definir la función de log-verosimilitud negativa para la mezcla de dos normales.\n",
    "4. Definir valores iniciales para los parámetros a estimar.\n",
    "5. Estimar los parámetros.\n",
    "6. Visualizar las distribuciones que retornan los estimadores y comparar con los datos reales."
   ]
  },
  {
   "cell_type": "code",
   "execution_count": 14,
   "id": "9664fd92",
   "metadata": {},
   "outputs": [
    {
     "data": {
      "text/plain": [
       "<matplotlib.legend.Legend at 0x7f02d54296d0>"
      ]
     },
     "execution_count": 14,
     "metadata": {},
     "output_type": "execute_result"
    },
    {
     "data": {
      "image/png": "[encoded data removed]",
      "text/plain": [
       "<Figure size 640x480 with 1 Axes>"
      ]
     },
     "metadata": {},
     "output_type": "display_data"
    }
   ],
   "source": [
    "# Generar mezcla de dos distribuciones normales\n",
    "# Paso 1\n",
    "np.random.seed(13)\n",
    "n = 1000\n",
    "mu1 = 12\n",
    "mu2 = 17\n",
    "sigma1 = 2\n",
    "sigma2 = 4\n",
    "\n",
    "# corresponden a pi_1 y pi_2, o pi y 1-pi\n",
    "weights = [0.6, 0.4]\n",
    "\n",
    "# cada muestra es una mezcla con tamaño n * pi_k, por lo que n = n * pi_1 + n * pi_2\n",
    "samples1 = norm.rvs(loc=mu1, scale=sigma1, size=int(n * weights[0]))\n",
    "\n",
    "samples2 = norm.rvs(loc=mu2, scale=sigma2, size=int(n * weights[1]))\n",
    "samples = np.concatenate([samples1, samples2])\n",
    "\n",
    "# Paso 2\n",
    "plt.hist(samples1, bins=90);\n",
    "plt.hist(samples2, bins=90);\n",
    "plt.hist(samples, bins=90, alpha=0.3)\n",
    "plt.xlabel('x')\n",
    "plt.ylabel('$p(x; \\mu, \\sigma)$')\n",
    "plt.title('muestra de mezcla de dos normales')\n",
    "plt.legend(['$N(2,1)$', '$N(7,2)$'])"
   ]
  },
  {
   "cell_type": "code",
   "execution_count": 10,
   "id": "5047b4fd",
   "metadata": {},
   "outputs": [
    {
     "data": {
      "image/png": "[encoded data removed]",
      "text/plain": [
       "<Figure size 640x480 with 1 Axes>"
      ]
     },
     "metadata": {},
     "output_type": "display_data"
    }
   ],
   "source": [
    "plt.hist(samples, bins=90);"
   ]
  },
  {
   "cell_type": "code",
   "execution_count": 18,
   "id": "438f9f9b",
   "metadata": {},
   "outputs": [
    {
     "data": {
      "text/plain": [
       "array([0.02699548, 0.0647588 , 0.19947114, 0.00876415])"
      ]
     },
     "execution_count": 18,
     "metadata": {},
     "output_type": "execute_result"
    }
   ],
   "source": [
    "norm.pdf([1, 2, 5, 10],5,2)"
   ]
  },
  {
   "cell_type": "markdown",
   "id": "58fbe2bc",
   "metadata": {},
   "source": [
    "Definir la pdf primero\n",
    "\n",
    "$$\n",
    " p(x; \\mu_1, \\mu_2, \\sigma_1, \\sigma_2, \\pi) = \\pi * N(\\mu_1, \\sigma_1) + (1-\\pi) * N(\\mu_2, \\sigma_2)\n",
    "$$"
   ]
  },
  {
   "cell_type": "code",
   "execution_count": 22,
   "id": "c61c12cf",
   "metadata": {},
   "outputs": [],
   "source": [
    "# paso 3\n",
    "\n",
    "def mixture_2norm(x, mu1, mu2, sig1, sig2, w):\n",
    "    return w * norm.pdf(x, mu1, sig1) + (1 - w) * norm.pdf(x, mu2, sig2)"
   ]
  },
  {
   "cell_type": "markdown",
   "id": "decc2584",
   "metadata": {},
   "source": [
    "Definir la función de log-verosimilitud\n",
    "\n",
    "$$\n",
    "l(\\mu_1,\\mu_2,\\sigma_1,\\sigma_2,\\pi) = \\ln\\prod_{i=1}^n\\{\\pi * N(x_i;\\mu_1, \\sigma_1) + (1-\\pi) * N(x_i;\\mu_2, \\sigma_2)\\}\n",
    "$$"
   ]
  },
  {
   "cell_type": "code",
   "execution_count": 21,
   "id": "a1be0dc6",
   "metadata": {},
   "outputs": [
    {
     "data": {
      "text/plain": [
       "3"
      ]
     },
     "execution_count": 21,
     "metadata": {},
     "output_type": "execute_result"
    }
   ],
   "source": [
    "theta = [1, 2, 3]\n",
    "a, b, c = theta\n",
    "c"
   ]
  },
  {
   "cell_type": "code",
   "execution_count": 44,
   "id": "20d9faba",
   "metadata": {},
   "outputs": [
    {
     "data": {
      "text/plain": [
       "array([11.96318522, 17.77332184,  1.9143502 ,  3.99483097,  0.65538742])"
      ]
     },
     "execution_count": 44,
     "metadata": {},
     "output_type": "execute_result"
    }
   ],
   "source": [
    "def neg_log_like_mix_norm(theta,x):\n",
    "    # desempaquetar theta\n",
    "    mu1, mu2, sig1, sig2, w = theta\n",
    "    # log-verosimilitud; \n",
    "    log_like = np.log(mixture_2norm(x, mu1, mu2, sig1, sig2, w)+1e-90)\n",
    "    sum_log_like = np.sum(log_like)\n",
    "    return -sum_log_like\n",
    "\n",
    "# Paso 3\n",
    "# inicializar parámetros\n",
    "\n",
    "theta_init = [8, 10, 1, 3, 0.1]\n",
    "\n",
    "# minimizar la neg-log-like\n",
    "\n",
    "res = minimize(neg_log_like_mix_norm, \n",
    "               theta_init,args=(samples),\n",
    "               method=\"SLSQP\", # sequential least squares quadratic programming\n",
    "               bounds=[(None, None), (None, None), (0, None), (0, None), (0, 1)]\n",
    "              )\n",
    "# parámetros reales:\n",
    "# n = 1000\n",
    "# mu1 = 12\n",
    "# mu2 = 17\n",
    "# sigma1 = 2\n",
    "# sigma2 = 4\n",
    "# w = 0.6, 0.4\n",
    "\n",
    "res.x\n"
   ]
  },
  {
   "cell_type": "code",
   "execution_count": 43,
   "id": "b24963d1",
   "metadata": {},
   "outputs": [
    {
     "data": {
      "text/plain": [
       "[<matplotlib.lines.Line2D at 0x7f02d0b6ed10>]"
      ]
     },
     "execution_count": 43,
     "metadata": {},
     "output_type": "execute_result"
    },
    {
     "data": {
      "image/png": "[encoded data removed]",
      "text/plain": [
       "<Figure size 640x480 with 1 Axes>"
      ]
     },
     "metadata": {},
     "output_type": "display_data"
    }
   ],
   "source": [
    "# paso 5\n",
    "\n",
    "x = np.linspace(5, 25, 1000)\n",
    "mu_1, mu_2, sig_1, sig_2, w = res.x\n",
    "pdf_mezcla_estimada = mixture_2norm(x, mu_1, mu_2, sig_1, sig_2, w)\n",
    "pdf1 = w*norm.pdf(x, mu_1, sig_1)\n",
    "pdf2 = (1-w) * norm.pdf(x, mu_2,sig_2)\n",
    "plt.hist(samples1, bins=90,alpha=0.3, density=True)\n",
    "plt.hist(samples2, bins=90,alpha=0.3, density=True)\n",
    "plt.plot(x, pdf_mezcla_estimada,'k--');\n",
    "plt.plot(x,pdf1)\n",
    "plt.plot(x,pdf2)"
   ]
  },
  {
   "cell_type": "code",
   "execution_count": null,
   "id": "fc9002a2",
   "metadata": {},
   "outputs": [],
   "source": []
  }
 ],
 "metadata": {
  "kernelspec": {
   "display_name": "Python 3 (ipykernel)",
   "language": "python",
   "name": "python3"
  },
  "language_info": {
   "codemirror_mode": {
    "name": "ipython",
    "version": 3
   },
   "file_extension": ".py",
   "mimetype": "text/x-python",
   "name": "python",
   "nbconvert_exporter": "python",
   "pygments_lexer": "ipython3",
   "version": "3.11.5"
  }
 },
 "nbformat": 4,
 "nbformat_minor": 5
}
