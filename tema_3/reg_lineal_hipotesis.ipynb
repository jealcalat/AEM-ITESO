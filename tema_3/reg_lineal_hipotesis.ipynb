{
 "cells": [
  {
   "cell_type": "code",
   "execution_count": null,
   "id": "a1e7acd5",
   "metadata": {},
   "outputs": [],
   "source": [
    "import pandas as pd\n",
    "import matplotlib.pyplot as plt\n",
    "import seaborn as sns\n",
    "import numpy as np\n",
    "# import ols\n",
    "import statsmodels.api as sm\n",
    "\n",
    "url_data = \"https://raw.githubusercontent.com/jealcalat/AEM-ITESO/main/datasets/wages.csv\"\n",
    "\n",
    "data = pd.read_csv(url_data)\n",
    "data.head()"
   ]
  },
  {
   "cell_type": "code",
   "execution_count": null,
   "id": "459c01e0",
   "metadata": {},
   "outputs": [],
   "source": [
    "# pairs plot\n",
    "sns.pairplot(data, kind=\"reg\")"
   ]
  },
  {
   "cell_type": "code",
   "execution_count": null,
   "id": "3093988f",
   "metadata": {},
   "outputs": [],
   "source": [
    "# log transform earn\n",
    "data[\"log_earn\"] = np.log(data[\"earn\"])\n",
    "sns.pairplot(data, kind=\"reg\")"
   ]
  },
  {
   "cell_type": "markdown",
   "id": "92d39e48",
   "metadata": {},
   "source": [
    "Esto da lugar a un modelo log-lineal, que tiene la siguiente forma:\n",
    "\n",
    "$$\\ln y = \\beta_0 + \\beta_1 x_1 + \\dots + \\beta_p x_p \\epsilon$$\n",
    "\n",
    "donde $\\epsilon$ es un error aleatorio. La estimación de los parámetros $\\beta_0, \\beta_1, \\dots, \\beta_p$ se realiza mediante el método de mínimos cuadrados, al igual que el modelo lineal que ya conocemos. \n",
    "\n",
    "Ahora, el modelo log-lineal se puede transformar en un modelo lineal, aplicando la función exponencial a ambos lados de la ecuación:\n",
    "\n",
    "$$y = e^{\\beta_0 + \\beta_1 x_1 + \\dots + \\beta_p x_p \\epsilon}$$\n",
    "\n",
    "Lo que es igual a \n",
    "\n",
    "$$y = e^{\\beta_0} e^{\\beta_1 x_1} \\dots e^{\\beta_p x_p} \\epsilon$$\n",
    "\n",
    "Recordando que en regresión lineal, los coeficientes se interpretan de la siguiente manera:\n",
    "\n",
    "- $\\beta_0$ es el valor esperado de $y$ cuando $x=0$.\n",
    "- $\\beta_1$ es el cambio esperado en $y$ por cada cambio unitario en $x$. Es decir, si $x$ aumenta en 1, $y$ aumenta en $\\beta_1$.\n",
    "\n",
    "Sin embargo, si log-transformamos $y$, entonces los coeficientes se interpretan de manera diferente.\n",
    "\n",
    "\n",
    "Si quieres averiguar cómo cambia $ y $ con respecto a $ x $, puedes exponenciar ambos lados:\n",
    "\n",
    "1. Empezando desde $ \\ln(y) = \\beta_0 + \\beta_1 \\cdot x $,\n",
    "2. Exponenciando ambos lados se obtiene $ y = e^{\\beta_0 + \\beta_1 \\cdot x} $,\n",
    "3. Esto se simplifica a $ y = e^{\\beta_0} \\times e^{\\beta_1 \\cdot x} $.\n",
    "\n",
    "Ahora, si $ x $ aumenta en 1 (es decir, $ \\Delta x = 1 $), entonces:\n",
    "\n",
    "- $ y_{\\text{nuevo}} = e^{\\beta_0} \\times e^{\\beta_1 \\cdot (x + 1)} $,\n",
    "- $ y_{\\text{nuevo}} = e^{\\beta_0} \\times e^{\\beta_1 \\cdot x} \\times e^{\\beta_1} $,\n",
    "- $ y_{\\text{nuevo}} = y_{\\text{anterior}} \\times e^{\\beta_1} $.\n",
    "\n",
    "Aquí, $ e^{\\beta_1} $ es el factor multiplicativo por el cual $ y $ aumenta por cada aumento de una unidad en $ x $.\n",
    "\n",
    "Por lo tanto, cuando exponencias $ \\beta_1 $, obtienes $ e^{\\beta_1} $, que te indica el cambio multiplicativo en $ y $ para un cambio de una unidad en $ x $."
   ]
  },
  {
   "cell_type": "code",
   "execution_count": null,
   "id": "b95e3d5f",
   "metadata": {},
   "outputs": [],
   "source": [
    "# run model with earn, then with log_earn using ed as predictor\n",
    "# model 1\n",
    "model1 = sm.OLS.from_formula(\"earn ~ ed\", data=data)\n",
    "result1 = model1.fit()\n",
    "print(result1.summary())"
   ]
  },
  {
   "cell_type": "code",
   "execution_count": null,
   "id": "efe20ec4",
   "metadata": {},
   "outputs": [],
   "source": [
    "\n",
    "# model 2\n",
    "model2 = sm.OLS.from_formula(\"log_earn ~ ed\", data=data)\n",
    "result2 = model2.fit()\n",
    "print(result2.summary())\n"
   ]
  },
  {
   "cell_type": "code",
   "execution_count": null,
   "id": "5b84d844",
   "metadata": {},
   "outputs": [],
   "source": [
    "# extraer AIC de cada modelo\n",
    "print(result1.aic)\n",
    "print(result2.aic)"
   ]
  },
  {
   "cell_type": "code",
   "execution_count": null,
   "id": "70b5fb31",
   "metadata": {},
   "outputs": [],
   "source": [
    "# correr modelo agregando age\n",
    "model3 = sm.OLS.from_formula(\"log_earn ~ ed + age\", data=data)\n",
    "result3 = model3.fit()\n",
    "print(result3.summary())"
   ]
  },
  {
   "cell_type": "code",
   "execution_count": null,
   "id": "c1d89c94",
   "metadata": {},
   "outputs": [],
   "source": [
    "# correr modelo agregando interacción de age y ed\n",
    "model4 = sm.OLS.from_formula(\"log_earn ~ ed + age + ed*age\", data=data)\n",
    "result4 = model4.fit()\n",
    "print(result4.summary())"
   ]
  },
  {
   "cell_type": "code",
   "execution_count": null,
   "id": "15bf9bc8",
   "metadata": {},
   "outputs": [],
   "source": [
    "# correr modelo usando ed, age y sex como dummy\n",
    "model5 = sm.OLS.from_formula(\"log_earn ~ ed + age + C(sex)\", data=data)\n",
    "result5 = model5.fit()\n",
    "print(result5.summary())"
   ]
  },
  {
   "cell_type": "code",
   "execution_count": null,
   "id": "8d212a20",
   "metadata": {},
   "outputs": [],
   "source": [
    "# scatter plot of ear as a function of ed, colored by sex; add regression line for sex == male, and sex == female\n",
    "# Create a scatter plot of 'ear' as a function of 'ed', colored by 'sex'\n",
    "plt.figure(figsize=(8, 6))\n",
    "# Add regression lines for 'sex' == 'male' and 'sex' == 'female'\n",
    "sns.lmplot(x='ed', y='log_earn', hue='sex', data=data)\n",
    "plt.show()"
   ]
  },
  {
   "cell_type": "markdown",
   "id": "30b2a448",
   "metadata": {},
   "source": [
    "El efecto de ser hombre o mujer en el salario es el siguiente:\n",
    "\n",
    "`C(sex)[T.male]     0.9929 `\n",
    "\n",
    "¿Qué significa? Recordando que tenemos exponenciar $\\beta$ para obtener un efecto multiplicativo:\n",
    "\n",
    "$$e^{0.9929} = 2.70$$\n",
    "\n",
    "Interpretando `x=0` para `female` y `x=1` para male, (es decir, $ \\Delta x = 1 $), entonces:\n",
    "\n",
    "- $ y_{\\text{male}} = e^{\\beta_0} \\times e^{0.9929 \\cdot (x + 1)} $,\n",
    "- $ y_{\\text{male}} = e^{\\beta_0} \\times e^{0.9929 \\cdot x} \\times e^{0.9929} $,\n",
    "- $ y_{\\text{male}} = y_{\\text{female}} \\times e^{0.9929} = 2.70\\times y_{\\text{female}} $."
   ]
  },
  {
   "cell_type": "markdown",
   "id": "3df7d6d1",
   "metadata": {},
   "source": [
    "Podemos obtener predicciones precisas y corroborar este resultado con el método `predict`:\n"
   ]
  },
  {
   "cell_type": "code",
   "execution_count": null,
   "id": "8a6f9260",
   "metadata": {},
   "outputs": [],
   "source": [
    "# Create a DataFrame with the predictor variables for both male and female\n",
    "new_data = pd.DataFrame({\n",
    "    'ed': [17, 17],  # 17 years of education for both\n",
    "    'age': [35, 35],  # 35 years old for both\n",
    "    'sex': ['male', 'female']  # Male and Female\n",
    "})\n",
    "\n",
    "# Use the `predict` method to get the log earnings\n",
    "predicted_log_earn = result5.predict(new_data)\n",
    "\n",
    "# Convert log earnings to original earnings scale\n",
    "predicted_earn = np.exp(predicted_log_earn)\n",
    "\n",
    "# Output the predicted log earnings and original scale earnings\n",
    "for i, sex in enumerate(new_data['sex']):\n",
    "    print(f\"Predicted log earnings for {sex}: {predicted_log_earn.iloc[i]}\")\n",
    "    print(f\"Predicted earnings for {sex}: {predicted_earn.iloc[i]}\")\n"
   ]
  },
  {
   "cell_type": "code",
   "execution_count": null,
   "id": "178bc02b",
   "metadata": {},
   "outputs": [],
   "source": [
    "predicted_earn.iloc[0]/predicted_earn.iloc[1]"
   ]
  }
 ],
 "metadata": {
  "kernelspec": {
   "display_name": "Python 3 (ipykernel)",
   "language": "python",
   "name": "python3"
  },
  "language_info": {
   "codemirror_mode": {
    "name": "ipython",
    "version": 3
   },
   "file_extension": ".py",
   "mimetype": "text/x-python",
   "name": "python",
   "nbconvert_exporter": "python",
   "pygments_lexer": "ipython3",
   "version": "3.11.5"
  }
 },
 "nbformat": 4,
 "nbformat_minor": 5
}
